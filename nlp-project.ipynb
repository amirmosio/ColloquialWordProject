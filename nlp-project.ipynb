{
 "cells": [
  {
   "cell_type": "code",
   "execution_count": 1,
   "id": "d698c4e6",
   "metadata": {
    "execution": {
     "iopub.execute_input": "2022-11-14T22:18:45.732286Z",
     "iopub.status.busy": "2022-11-14T22:18:45.731661Z",
     "iopub.status.idle": "2022-11-14T22:18:45.739146Z",
     "shell.execute_reply": "2022-11-14T22:18:45.737875Z"
    },
    "papermill": {
     "duration": 0.021127,
     "end_time": "2022-11-14T22:18:45.741535",
     "exception": false,
     "start_time": "2022-11-14T22:18:45.720408",
     "status": "completed"
    },
    "tags": []
   },
   "outputs": [],
   "source": [
    "# !wget \"https://github.com/Text-Mining/Persian-Wikipedia-Corpus/raw/master/Json%20Format%20of%20Persian%20Wikipedia%20Pages/fawiki-20181001-pages-articles-multistream%201%20-%20100000.zip\"\n",
    "# !wget \"https://github.com/Text-Mining/Persian-Wikipedia-Corpus/raw/master/Json%20Format%20of%20Persian%20Wikipedia%20Pages/fawiki-20181001-pages-articles-multistream%20100001%20-%20290169.zip\"\n",
    "# !wget \"https://github.com/Text-Mining/Persian-Wikipedia-Corpus/raw/master/Json%20Format%20of%20Persian%20Wikipedia%20Pages/fawiki-20181001-pages-articles-multistream%20290170%20-%20580338.zip\"\n",
    "# !wget \"https://github.com/Text-Mining/Persian-Wikipedia-Corpus/raw/master/Json%20Format%20of%20Persian%20Wikipedia%20Pages/fawiki-20181001-pages-articles-multistream%20580339%20-%20870507.zip\"\n",
    "# !wget \"https://github.com/Text-Mining/Persian-Wikipedia-Corpus/raw/master/Json%20Format%20of%20Persian%20Wikipedia%20Pages/fawiki-20181001-pages-articles-multistream%20870508%20-%201160676.zip\""
   ]
  },
  {
   "cell_type": "code",
   "execution_count": 2,
   "id": "165cbcc0",
   "metadata": {
    "execution": {
     "iopub.execute_input": "2022-11-14T22:18:45.758633Z",
     "iopub.status.busy": "2022-11-14T22:18:45.758002Z",
     "iopub.status.idle": "2022-11-14T22:18:45.763030Z",
     "shell.execute_reply": "2022-11-14T22:18:45.762181Z"
    },
    "papermill": {
     "duration": 0.016063,
     "end_time": "2022-11-14T22:18:45.765198",
     "exception": false,
     "start_time": "2022-11-14T22:18:45.749135",
     "status": "completed"
    },
    "tags": []
   },
   "outputs": [],
   "source": [
    "# !unzip \"/kaggle/working/fawiki-20181001-pages-articles-multistream 1 - 100000.zip\"\n",
    "# !rm \"/kaggle/working/fawiki-20181001-pages-articles-multistream 1 - 100000.zip\" \n",
    "\n",
    "# !unzip \"/kaggle/working/fawiki-20181001-pages-articles-multistream 870508 - 1160676.zip\"\n",
    "# !rm \"/kaggle/working/fawiki-20181001-pages-articles-multistream 870508 - 1160676.zip\" \n",
    "\n",
    "# !unzip \"/kaggle/working/fawiki-20181001-pages-articles-multistream 100001 - 290169.zip\"\n",
    "# !rm \"/kaggle/working/fawiki-20181001-pages-articles-multistream 100001 - 290169.zip\" \n",
    "\n",
    "# !unzip \"/kaggle/working/fawiki-20181001-pages-articles-multistream 290170 - 580338.zip\"\n",
    "# !rm \"/kaggle/working/fawiki-20181001-pages-articles-multistream 290170 - 580338.zip\" \n",
    "\n",
    "# !unzip \"/kaggle/working/fawiki-20181001-pages-articles-multistream 580339 - 870507.zip\"\n",
    "# !rm \"/kaggle/working/fawiki-20181001-pages-articles-multistream 580339 - 870507.zip\" "
   ]
  },
  {
   "cell_type": "code",
   "execution_count": 3,
   "id": "7b6f7e53",
   "metadata": {
    "execution": {
     "iopub.execute_input": "2022-11-14T22:18:45.782373Z",
     "iopub.status.busy": "2022-11-14T22:18:45.781502Z",
     "iopub.status.idle": "2022-11-14T22:18:45.786382Z",
     "shell.execute_reply": "2022-11-14T22:18:45.785649Z"
    },
    "papermill": {
     "duration": 0.015907,
     "end_time": "2022-11-14T22:18:45.788479",
     "exception": false,
     "start_time": "2022-11-14T22:18:45.772572",
     "status": "completed"
    },
    "tags": []
   },
   "outputs": [],
   "source": [
    "# !wget \"https://lindat.mff.cuni.cz/repository/xmlui/bitstream/handle/11234/1-3195/lscp-0.5-fa.7z\""
   ]
  },
  {
   "cell_type": "code",
   "execution_count": 4,
   "id": "3b6f3aaf",
   "metadata": {
    "execution": {
     "iopub.execute_input": "2022-11-14T22:18:45.805027Z",
     "iopub.status.busy": "2022-11-14T22:18:45.804402Z",
     "iopub.status.idle": "2022-11-14T22:18:45.808661Z",
     "shell.execute_reply": "2022-11-14T22:18:45.807881Z"
    },
    "papermill": {
     "duration": 0.014941,
     "end_time": "2022-11-14T22:18:45.810703",
     "exception": false,
     "start_time": "2022-11-14T22:18:45.795762",
     "status": "completed"
    },
    "tags": []
   },
   "outputs": [],
   "source": [
    "# !7z x \"/kaggle/working/lscp-0.5-fa.7z\"\n",
    "# !rm \"/kaggle/working/lscp-0.5-fa.7z\" "
   ]
  },
  {
   "cell_type": "code",
   "execution_count": 5,
   "id": "83ebcbbc",
   "metadata": {
    "execution": {
     "iopub.execute_input": "2022-11-14T22:18:45.826869Z",
     "iopub.status.busy": "2022-11-14T22:18:45.826509Z",
     "iopub.status.idle": "2022-11-14T22:18:45.830875Z",
     "shell.execute_reply": "2022-11-14T22:18:45.829670Z"
    },
    "papermill": {
     "duration": 0.015304,
     "end_time": "2022-11-14T22:18:45.833199",
     "exception": false,
     "start_time": "2022-11-14T22:18:45.817895",
     "status": "completed"
    },
    "tags": []
   },
   "outputs": [],
   "source": [
    "# !wget \"https://raw.githubusercontent.com/amirmosio/ColloquialWordProject/main/language_model/data/stop_words.json\""
   ]
  },
  {
   "cell_type": "code",
   "execution_count": 6,
   "id": "4f3bf7f3",
   "metadata": {
    "execution": {
     "iopub.execute_input": "2022-11-14T22:18:45.849860Z",
     "iopub.status.busy": "2022-11-14T22:18:45.849176Z",
     "iopub.status.idle": "2022-11-14T22:18:45.853311Z",
     "shell.execute_reply": "2022-11-14T22:18:45.852328Z"
    },
    "papermill": {
     "duration": 0.015171,
     "end_time": "2022-11-14T22:18:45.855634",
     "exception": false,
     "start_time": "2022-11-14T22:18:45.840463",
     "status": "completed"
    },
    "tags": []
   },
   "outputs": [],
   "source": [
    "# !wget \"https://github.com/Text-Mining/Persian-Wikipedia-Corpus/raw/master/models/word2vec-cbow/word2vec.model-cbow-size%3D200-window%3D5.part1.rar\"\n",
    "# !wget \"https://github.com/Text-Mining/Persian-Wikipedia-Corpus/blob/master/models/word2vec-cbow/word2vec.model-cbow-size%3D200-window%3D5.part2.rar\"\n",
    "# !wget -o \"/kaggle/working/word2vec.model\" \"https://drive.google.com/uc?id=1M6aG47Kxm_kw1ADtDm1cXaOLZ_qM0qys&export=download\""
   ]
  },
  {
   "cell_type": "code",
   "execution_count": 7,
   "id": "404f5089",
   "metadata": {
    "execution": {
     "iopub.execute_input": "2022-11-14T22:18:45.872050Z",
     "iopub.status.busy": "2022-11-14T22:18:45.871608Z",
     "iopub.status.idle": "2022-11-14T22:18:45.893759Z",
     "shell.execute_reply": "2022-11-14T22:18:45.892554Z"
    },
    "papermill": {
     "duration": 0.033383,
     "end_time": "2022-11-14T22:18:45.896428",
     "exception": false,
     "start_time": "2022-11-14T22:18:45.863045",
     "status": "completed"
    },
    "tags": []
   },
   "outputs": [
    {
     "name": "stdout",
     "output_type": "stream",
     "text": [
      "../input/train-word2vec-for-one-epoch/stop_words.json\n",
      "../input/train-word2vec-for-one-epoch/lscp-0.5-fa.txt\n",
      "../input/train-word2vec-for-one-epoch/formal_tokens.json\n",
      "../input/train-word2vec-for-one-epoch/word2vec.model1668043951.0301144.model.syn1neg.npy\n",
      "../input/train-word2vec-for-one-epoch/word2vec.model1668043938.615096.model.wv.vectors.npy\n",
      "../input/train-word2vec-for-one-epoch/fawiki-20181001-pages-articles-multistream 870508 - 1160676.json\n",
      "../input/train-word2vec-for-one-epoch/fawiki-20181001-pages-articles-multistream 100001 - 290169.json\n",
      "../input/train-word2vec-for-one-epoch/fawiki-20181001-pages-articles-multistream 290170 - 580338.json\n",
      "../input/train-word2vec-for-one-epoch/word2vec.model1668043938.615096.model.syn1neg.npy\n",
      "../input/train-word2vec-for-one-epoch/word2vec.model1668043951.0301144.model\n",
      "../input/train-word2vec-for-one-epoch/fawiki-20181001-pages-articles-multistream 1 - 100000.json\n",
      "../input/train-word2vec-for-one-epoch/word2vec.model1668043951.0301144.model.wv.vectors.npy\n",
      "../input/train-word2vec-for-one-epoch/word2vec.model1668043938.615096.model\n",
      "../input/train-word2vec-for-one-epoch/fawiki-20181001-pages-articles-multistream 580339 - 870507.json\n"
     ]
    }
   ],
   "source": [
    "import os\n",
    "# os.remove(\"./word2vec.model1668043951.0301144.model.1\")\n",
    "# os.remove(\"./fawiki-20181001-pages-articles-multistream 870508 - 1160676.json\")\n",
    "\n",
    "for dirname, _, filenames in os.walk('../input/train-word2vec-for-one-epoch'):\n",
    "    for filename in filenames:\n",
    "        print(os.path.join(dirname, filename))"
   ]
  },
  {
   "cell_type": "code",
   "execution_count": 8,
   "id": "3c18f8c8",
   "metadata": {
    "execution": {
     "iopub.execute_input": "2022-11-14T22:18:45.916045Z",
     "iopub.status.busy": "2022-11-14T22:18:45.915319Z",
     "iopub.status.idle": "2022-11-14T22:18:47.707207Z",
     "shell.execute_reply": "2022-11-14T22:18:47.705965Z"
    },
    "papermill": {
     "duration": 1.803174,
     "end_time": "2022-11-14T22:18:47.709582",
     "exception": false,
     "start_time": "2022-11-14T22:18:45.906408",
     "status": "completed"
    },
    "tags": []
   },
   "outputs": [
    {
     "name": "stdout",
     "output_type": "stream",
     "text": [
      "device: cpu\n"
     ]
    }
   ],
   "source": [
    "import torch\n",
    "\n",
    "\n",
    "class Configs:\n",
    "    DEBUG = False\n",
    "    question_answer_score = 1\n",
    "    question_wrong_answer_score = -5\n",
    "    introduce_score = 20\n",
    "    music_cost = 3\n",
    "    bot_user_name = \"fa_cwc_bot\"\n",
    "    min_score_for_lottery = 100\n",
    "    test_context_number = 100\n",
    "    train_epochs = 1\n",
    "    train_max_queue_length = 1000\n",
    "    device = torch.device(\"cuda\" if torch.cuda.is_available() and not DEBUG else \"cpu\")\n",
    "    print(f\"device: {device}\")\n",
    "\n"
   ]
  },
  {
   "cell_type": "code",
   "execution_count": 9,
   "id": "2f39acdd",
   "metadata": {
    "execution": {
     "iopub.execute_input": "2022-11-14T22:18:47.727157Z",
     "iopub.status.busy": "2022-11-14T22:18:47.725965Z",
     "iopub.status.idle": "2022-11-14T22:19:23.510795Z",
     "shell.execute_reply": "2022-11-14T22:19:23.509555Z"
    },
    "papermill": {
     "duration": 35.796349,
     "end_time": "2022-11-14T22:19:23.513575",
     "exception": false,
     "start_time": "2022-11-14T22:18:47.717226",
     "status": "completed"
    },
    "tags": []
   },
   "outputs": [
    {
     "name": "stdout",
     "output_type": "stream",
     "text": [
      "Collecting hazm\r\n",
      "  Downloading hazm-0.7.0-py3-none-any.whl (316 kB)\r\n",
      "\u001b[2K     \u001b[90m━━━━━━━━━━━━━━━━━━━━━━━━━━━━━━━━━━━━━━━\u001b[0m \u001b[32m316.7/316.7 kB\u001b[0m \u001b[31m1.0 MB/s\u001b[0m eta \u001b[36m0:00:00\u001b[0m\r\n",
      "\u001b[?25hCollecting nltk==3.3\r\n",
      "  Downloading nltk-3.3.0.zip (1.4 MB)\r\n",
      "\u001b[2K     \u001b[90m━━━━━━━━━━━━━━━━━━━━━━━━━━━━━━━━━━━━━━━━\u001b[0m \u001b[32m1.4/1.4 MB\u001b[0m \u001b[31m6.4 MB/s\u001b[0m eta \u001b[36m0:00:00\u001b[0m\r\n",
      "\u001b[?25h  Preparing metadata (setup.py) ... \u001b[?25l-\b \bdone\r\n",
      "\u001b[?25hCollecting libwapiti>=0.2.1\r\n",
      "  Downloading libwapiti-0.2.1.tar.gz (233 kB)\r\n",
      "\u001b[2K     \u001b[90m━━━━━━━━━━━━━━━━━━━━━━━━━━━━━━━━━━━━━━\u001b[0m \u001b[32m233.6/233.6 kB\u001b[0m \u001b[31m17.8 MB/s\u001b[0m eta \u001b[36m0:00:00\u001b[0m\r\n",
      "\u001b[?25h  Preparing metadata (setup.py) ... \u001b[?25l-\b \b\\\b \bdone\r\n",
      "\u001b[?25hRequirement already satisfied: six in /opt/conda/lib/python3.7/site-packages (from nltk==3.3->hazm) (1.15.0)\r\n",
      "Building wheels for collected packages: nltk, libwapiti\r\n",
      "  Building wheel for nltk (setup.py) ... \u001b[?25l-\b \b\\\b \b|\b \b/\b \b-\b \b\\\b \bdone\r\n",
      "\u001b[?25h  Created wheel for nltk: filename=nltk-3.3-py3-none-any.whl size=1394486 sha256=22ee967338a2c2deed3f9ec2cd17bbdd49f36a219553f281d245c0deada5968f\r\n",
      "  Stored in directory: /root/.cache/pip/wheels/9b/fd/0c/d92302c876e5de87ebd7fc0979d82edb93e2d8d768bf71fac4\r\n",
      "  Building wheel for libwapiti (setup.py) ... \u001b[?25l-\b \b\\\b \b|\b \b/\b \b-\b \b\\\b \b|\b \b/\b \b-\b \b\\\b \b|\b \b/\b \b-\b \b\\\b \b|\b \b/\b \bdone\r\n",
      "\u001b[?25h  Created wheel for libwapiti: filename=libwapiti-0.2.1-cp37-cp37m-linux_x86_64.whl size=192764 sha256=340c428948186fb50d3b0d8c6203e3f819b2b123de5bf4e12ef93e5ce6af9c15\r\n",
      "  Stored in directory: /root/.cache/pip/wheels/ab/b2/5b/0fe4b8f5c0e65341e8ea7bb3f4a6ebabfe8b1ac31322392dbf\r\n",
      "Successfully built nltk libwapiti\r\n",
      "Installing collected packages: nltk, libwapiti, hazm\r\n",
      "  Attempting uninstall: nltk\r\n",
      "    Found existing installation: nltk 3.7\r\n",
      "    Uninstalling nltk-3.7:\r\n",
      "      Successfully uninstalled nltk-3.7\r\n",
      "\u001b[31mERROR: pip's dependency resolver does not currently take into account all the packages that are installed. This behaviour is the source of the following dependency conflicts.\r\n",
      "preprocessing 0.1.13 requires nltk==3.2.4, but you have nltk 3.3 which is incompatible.\r\n",
      "allennlp 2.10.0 requires nltk>=3.6.5, but you have nltk 3.3 which is incompatible.\r\n",
      "allennlp 2.10.0 requires protobuf==3.20.0, but you have protobuf 3.19.4 which is incompatible.\u001b[0m\u001b[31m\r\n",
      "\u001b[0mSuccessfully installed hazm-0.7.0 libwapiti-0.2.1 nltk-3.3\r\n",
      "\u001b[33mWARNING: Running pip as the 'root' user can result in broken permissions and conflicting behaviour with the system package manager. It is recommended to use a virtual environment instead: https://pip.pypa.io/warnings/venv\u001b[0m\u001b[33m\r\n",
      "\u001b[0m"
     ]
    }
   ],
   "source": [
    "!pip install hazm\n",
    "import json\n",
    "import re\n",
    "import string\n",
    "import time\n",
    "from hazm import word_tokenize, Lemmatizer\n",
    "from gensim.models import Word2Vec\n",
    "from gensim.models.callbacks import CallbackAny2Vec\n",
    "from tqdm import tqdm_notebook as tqdm\n",
    "from itertools import chain, islice\n",
    "import numpy as np\n",
    "from transformers import BertTokenizer, BertForMaskedLM, pipeline, AdamW"
   ]
  },
  {
   "cell_type": "code",
   "execution_count": 10,
   "id": "38c0c5e4",
   "metadata": {
    "_kg_hide-input": false,
    "execution": {
     "iopub.execute_input": "2022-11-14T22:19:23.537503Z",
     "iopub.status.busy": "2022-11-14T22:19:23.537071Z",
     "iopub.status.idle": "2022-11-14T22:19:23.755552Z",
     "shell.execute_reply": "2022-11-14T22:19:23.754382Z"
    },
    "papermill": {
     "duration": 0.233758,
     "end_time": "2022-11-14T22:19:23.758339",
     "exception": false,
     "start_time": "2022-11-14T22:19:23.524581",
     "status": "completed"
    },
    "tags": []
   },
   "outputs": [],
   "source": [
    "class PreprocessUtilities:\n",
    "    lemmatizer = Lemmatizer()\n",
    "    punctuation = string.punctuation + '،؟'\n",
    "\n",
    "    def __init__(self, stop_words):\n",
    "        self.stop_words = stop_words if stop_words else []\n",
    "        self.end_of_sentence_sings = [\".\", \"?\", \"؟\", \"!\", \";\", \"؛\", \":\", \"\\n\"]\n",
    "\n",
    "        self.pre_processing_functions = [self.remove_emoji_from_text,\n",
    "                                         self.remove_english_char_from_text,\n",
    "                                         self.remove_signs,\n",
    "                                         self.remove_digits_and_replace_digits_sign,\n",
    "                                         self.remove_url_from_text,\n",
    "                                         self.remove_extra_spaces,\n",
    "                                         self.remove_half_space,\n",
    "                                         self.remove_inflections]\n",
    "\n",
    "    def split_sentences(self, text):\n",
    "        return re.split(f\"|\".join([\"\\\\\" + i for i in self.end_of_sentence_sings]), text)\n",
    "\n",
    "    @staticmethod\n",
    "    def remove_emoji_from_text(text):\n",
    "        emoji_pattern = re.compile(\"[\"\n",
    "                                   u\"\\U0001F600-\\U0001F64F\"  # emoticons\n",
    "                                   u\"\\U0001F300-\\U0001F5FF\"  # symbols & pictographs\n",
    "                                   u\"\\U0001F680-\\U0001F6FF\"  # transport & map symbols\n",
    "                                   u\"\\U0001F1E0-\\U0001F1FF\"  # flags (iOS)\n",
    "                                   \"]+\", flags=re.UNICODE)\n",
    "        return emoji_pattern.sub(r' ', text)\n",
    "\n",
    "    @staticmethod\n",
    "    def remove_url_from_text(text):\n",
    "        return re.sub(r'^https?:\\/\\/.*[\\r\\n]*', ' ', text, flags=re.MULTILINE)\n",
    "\n",
    "    @staticmethod\n",
    "    def remove_digits_and_replace_digits_sign(text):\n",
    "        return re.sub(r'[0-9|۰-۹]+', '#Digits#', text, flags=re.MULTILINE)\n",
    "\n",
    "    @staticmethod\n",
    "    def remove_english_char_from_text(text):\n",
    "        return re.sub(r'[a-zA-Z]', ' ', text, flags=re.MULTILINE)\n",
    "\n",
    "    @staticmethod\n",
    "    def remove_signs(text):\n",
    "        for char in PreprocessUtilities.punctuation:\n",
    "            text = text.replace(char, ' ')\n",
    "        return text\n",
    "\n",
    "    @staticmethod\n",
    "    def remove_extra_spaces(text):\n",
    "        return re.sub(r'\\s+', ' ', text, flags=re.MULTILINE)\n",
    "\n",
    "    def remove_stop_words(self, tokens):\n",
    "        res = []\n",
    "        for token in tokens:\n",
    "            if token not in self.stop_words:\n",
    "                res.append(token)\n",
    "        return res\n",
    "\n",
    "    @staticmethod\n",
    "    def remove_half_space(text):\n",
    "        return re.sub(r'\\u200c', ' ', text, flags=re.MULTILINE)\n",
    "\n",
    "    @staticmethod\n",
    "    def remove_inflections(text):\n",
    "        tokens = word_tokenize(text)\n",
    "        lemma_tokens = [PreprocessUtilities.lemmatizer.lemmatize(w) for w in tokens]\n",
    "        return \" \".join(lemma_tokens)\n",
    "\n",
    "    @staticmethod\n",
    "    def tokenize_text(text):\n",
    "        return text.split()\n",
    "\n",
    "    def process_context(self, context, remove_stop_words=True):\n",
    "        for proc in self.pre_processing_functions:\n",
    "            context = proc(context)\n",
    "        if remove_stop_words:\n",
    "            return self.remove_stop_words(self.tokenize_text(context))\n",
    "        return self.tokenize_text(context)"
   ]
  },
  {
   "cell_type": "code",
   "execution_count": 11,
   "id": "d173d853",
   "metadata": {
    "execution": {
     "iopub.execute_input": "2022-11-14T22:19:23.782203Z",
     "iopub.status.busy": "2022-11-14T22:19:23.781029Z",
     "iopub.status.idle": "2022-11-14T22:19:23.794239Z",
     "shell.execute_reply": "2022-11-14T22:19:23.793044Z"
    },
    "papermill": {
     "duration": 0.027742,
     "end_time": "2022-11-14T22:19:23.796709",
     "exception": false,
     "start_time": "2022-11-14T22:19:23.768967",
     "status": "completed"
    },
    "tags": []
   },
   "outputs": [],
   "source": [
    "class FormalAndColloquialDataPreProcessing:\n",
    "    formal_directory_path = \"language_model/data/formal_dataset/\"\n",
    "    formal_file_paths = ['fawiki-20181001-pages-articles-multistream 1 - 100000.json',\n",
    "                         'fawiki-20181001-pages-articles-multistream 100001 - 290169.json',\n",
    "                         'fawiki-20181001-pages-articles-multistream 290170 - 580338.json',\n",
    "                         'fawiki-20181001-pages-articles-multistream 580339 - 870507.json',\n",
    "                         'fawiki-20181001-pages-articles-multistream 870508 - 1160676.json']\n",
    "    colloquial_file_path = 'language_model/data/colloquial_dataset/lscp-0.5-fa.txt'\n",
    "    stop_words_file_path = 'language_model/data/stop_words.json'\n",
    "\n",
    "    def __init__(self):\n",
    "        with open(self.stop_words_file_path, 'rb') as file:\n",
    "            stop_words = json.loads(file.read())['stopWords']\n",
    "        self.preprocess_utils = PreprocessUtilities(stop_words)\n",
    "\n",
    "    def bring_processed_formal_tokens(self, file_index: int):\n",
    "        for context in self._load_raw_formal_data(file_index):\n",
    "            yield self.preprocess_utils.process_context(context)\n",
    "\n",
    "    def bring_processed_colloquial_tokens(self):\n",
    "        for context in self._load_raw_colloquial_data():\n",
    "            yield self.preprocess_utils.process_context(context)\n",
    "\n",
    "    def _load_raw_formal_data(self, file_index):\n",
    "        with open(self.formal_directory_path + self.formal_file_paths[file_index], 'rb') as file:\n",
    "            context_count = 0\n",
    "            for article in file:\n",
    "                article = article.decode('utf-8')\n",
    "                if article != \"\":\n",
    "                    for context in json.loads(article)['Text'].split(\"\\n\"):\n",
    "                        context_count += 1\n",
    "                        yield context\n",
    "                    if Configs.DEBUG and context_count >= Configs.test_context_number:\n",
    "                        break\n",
    "\n",
    "    def _load_raw_colloquial_data(self):\n",
    "        with open(self.colloquial_file_path, 'rb') as file:\n",
    "            context_count = 0\n",
    "            for context in file:\n",
    "                context = context.decode('utf-8').strip()\n",
    "                if context.startswith(\"RT : \"):\n",
    "                    context = context[5:]\n",
    "                context_count += 1\n",
    "                yield context\n",
    "                if Configs.DEBUG and context_count >= Configs.test_context_number:\n",
    "                    break"
   ]
  },
  {
   "cell_type": "code",
   "execution_count": 12,
   "id": "69d54c37",
   "metadata": {
    "execution": {
     "iopub.execute_input": "2022-11-14T22:19:23.819997Z",
     "iopub.status.busy": "2022-11-14T22:19:23.819588Z",
     "iopub.status.idle": "2022-11-14T22:19:23.824912Z",
     "shell.execute_reply": "2022-11-14T22:19:23.823761Z"
    },
    "papermill": {
     "duration": 0.019723,
     "end_time": "2022-11-14T22:19:23.827197",
     "exception": false,
     "start_time": "2022-11-14T22:19:23.807474",
     "status": "completed"
    },
    "tags": []
   },
   "outputs": [],
   "source": [
    "FormalAndColloquialDataPreProcessing.formal_directory_path = \"../input/train-word2vec-for-one-epoch/\"\n",
    "FormalAndColloquialDataPreProcessing.colloquial_file_path = '../input/train-word2vec-for-one-epoch/lscp-0.5-fa.txt'\n",
    "FormalAndColloquialDataPreProcessing.stop_words_file_path = '../input/train-word2vec-for-one-epoch/stop_words.json'"
   ]
  },
  {
   "cell_type": "code",
   "execution_count": 13,
   "id": "e28f8e02",
   "metadata": {
    "execution": {
     "iopub.execute_input": "2022-11-14T22:19:23.851022Z",
     "iopub.status.busy": "2022-11-14T22:19:23.849974Z",
     "iopub.status.idle": "2022-11-14T22:19:23.854435Z",
     "shell.execute_reply": "2022-11-14T22:19:23.853589Z"
    },
    "papermill": {
     "duration": 0.018864,
     "end_time": "2022-11-14T22:19:23.856853",
     "exception": false,
     "start_time": "2022-11-14T22:19:23.837989",
     "status": "completed"
    },
    "tags": []
   },
   "outputs": [],
   "source": [
    "# provider = FormalAndColloquialDataPreProcessing()\n",
    "# data = provider._load_raw_colloquial_data()\n",
    "\n",
    "# for context in tqdm(data):\n",
    "#     print(context)\n",
    "#     for proc in provider.pre_processing_functions:\n",
    "#         context = proc(context)\n",
    "#     print(provider.preprocess_utils.remove_stop_words(provider.tokenize_text(context)))"
   ]
  },
  {
   "cell_type": "code",
   "execution_count": 14,
   "id": "8aeb7ded",
   "metadata": {
    "execution": {
     "iopub.execute_input": "2022-11-14T22:19:23.881002Z",
     "iopub.status.busy": "2022-11-14T22:19:23.880574Z",
     "iopub.status.idle": "2022-11-14T22:19:23.909439Z",
     "shell.execute_reply": "2022-11-14T22:19:23.908264Z"
    },
    "papermill": {
     "duration": 0.044619,
     "end_time": "2022-11-14T22:19:23.912121",
     "exception": false,
     "start_time": "2022-11-14T22:19:23.867502",
     "status": "completed"
    },
    "tags": []
   },
   "outputs": [],
   "source": [
    "class SentencesIterator:\n",
    "    def __init__(self, generator_function):\n",
    "        self.generator_function = generator_function\n",
    "        self.generator = self.generator_function()\n",
    "\n",
    "    def __iter__(self):\n",
    "        # reset the generator\n",
    "        self.generator = self.generator_function()\n",
    "        return self\n",
    "\n",
    "    def __next__(self):\n",
    "        result = next(self.generator)\n",
    "        if result is None:\n",
    "            raise StopIteration\n",
    "        else:\n",
    "            return result\n",
    "\n",
    "\n",
    "class Word2VecLanguageModelService:\n",
    "    model_path_save = \"language_model/word2vec.model\"\n",
    "    model_path_load = \"language_model/word2vec.model19308.model\"\n",
    "    formal_tokens_path_save = \"language_model/formal_tokens.json\"\n",
    "    formal_tokens_path_load = \"language_model/kaggle_outputs/formal_tokens_merged_with_bert.json\"\n",
    "\n",
    "    class CallBack(CallbackAny2Vec):\n",
    "        def __init__(self):\n",
    "            self.epoch = 0\n",
    "\n",
    "        def on_train_begin(self, model):\n",
    "            print('Training began ..., it may take a while!')\n",
    "            pass\n",
    "\n",
    "        def on_epoch_end(self, model):\n",
    "            self.epoch += 1\n",
    "            print(str(self.epoch) + \"\\\\\" + str(model.epochs), end=\" - \" if self.epoch != model.epochs else \"\\n\")\n",
    "            # model.save(Word2VecLanguageModelService.model_path_save)\n",
    "\n",
    "    def __init__(self, load_model=True):\n",
    "        self.provider = FormalAndColloquialDataPreProcessing()\n",
    "        self.model = self.load_model() if load_model else None\n",
    "        self.formal_tokens = self.load_formal_tokens_json() if load_model else set()\n",
    "\n",
    "    def load_model(self):\n",
    "        return Word2Vec.load(self.model_path_load)\n",
    "\n",
    "    def save_model(self):\n",
    "        print(f\"Saving model...\")\n",
    "        day = int(time.time() / (24 * 60 * 60))\n",
    "        self.model.save(self.model_path_save + str(day) + \".model\")\n",
    "        print(\"Saved.\")\n",
    "\n",
    "    def train_new_text(self, corpus_iterable, epoch=None):\n",
    "        print(f\"Training started on {len(corpus_iterable)} ...\")\n",
    "        self.model.min_count = 1\n",
    "        self.model.train(corpus_iterable, total_examples=len(corpus_iterable), epochs=epoch)\n",
    "        self.model.build_vocab(corpus_iterable, update=True)\n",
    "        print(f\"Training finished\")\n",
    "\n",
    "    @staticmethod\n",
    "    def shuffle(generator, buffer_size=4000):\n",
    "        count_txt = 0\n",
    "        while True:\n",
    "            buffer = list(islice(generator, buffer_size))\n",
    "            if len(buffer) == 0:\n",
    "                break\n",
    "            np.random.shuffle(buffer)\n",
    "            for item in buffer:\n",
    "                count_txt += 1\n",
    "                if count_txt % 10000 == 0:\n",
    "                    print(10000, end=\"-\")\n",
    "                yield item\n",
    "\n",
    "    def train_model(self):\n",
    "        def get_generator():\n",
    "            all_tokens_generator = chain(self.provider.bring_processed_colloquial_tokens(),\n",
    "                                         self.provider.bring_processed_formal_tokens(0),\n",
    "                                         self.provider.bring_processed_formal_tokens(1),\n",
    "                                         self.provider.bring_processed_formal_tokens(2),\n",
    "                                         self.provider.bring_processed_formal_tokens(3),\n",
    "                                         self.provider.bring_processed_formal_tokens(4))\n",
    "            return self.shuffle(all_tokens_generator)\n",
    "\n",
    "        self.model = Word2Vec(sentences=SentencesIterator(get_generator), vector_size=200, window=5, workers=4,\n",
    "                              epochs=Configs.train_epochs,\n",
    "                              callbacks=(self.CallBack(),), min_count=1)\n",
    "        self.save_model()\n",
    "\n",
    "    \"\"\"\n",
    "    Formal Tokens List\n",
    "    \"\"\"\n",
    "\n",
    "    def process_all_formal_tokens_and_save(self):\n",
    "        for i in tqdm(range(5)):\n",
    "            for context in tqdm(self.provider.bring_processed_formal_tokens(i)):\n",
    "                if Configs.DEBUG:\n",
    "                    for word in ['جوریم', 'دیوونم', 'دیوونس', 'خونس']:\n",
    "                        if word in context:\n",
    "                            print(\"found one!\")\n",
    "                            breakpoint()\n",
    "                self.formal_tokens.update(context)\n",
    "\n",
    "        with open(self.formal_tokens_path_save, 'w') as file:\n",
    "            file.write(json.dumps(list(self.formal_tokens)))\n",
    "\n",
    "    @classmethod\n",
    "    def load_formal_tokens_json(cls):\n",
    "        with open(cls.formal_tokens_path_load, 'rb') as file:\n",
    "            formal_tokens = json.loads(file.read())\n",
    "        return set(formal_tokens)\n",
    "\n",
    "    def get_similar_words_from_formal_or_both(self, positive=None, negative=None, topn=9, just_return_formals=True):\n",
    "        try:\n",
    "            res = {}\n",
    "            coeff_constant = 4  # maybe a good estimates for colloquial_tokens/formal_tokens\n",
    "            while len(res) != topn and coeff_constant < 2048:\n",
    "                for token, distance in self.model.wv.most_similar(positive=positive, negative=negative,\n",
    "                                                                  topn=topn * coeff_constant):\n",
    "                    if token not in res and (not just_return_formals or token in self.formal_tokens):\n",
    "                        res[token] = round(1 / distance, 3)\n",
    "                        if len(res) == topn:\n",
    "                            break\n",
    "                coeff_constant *= 2\n",
    "            return res\n",
    "        except Exception as e:\n",
    "            print(f\"Error in word2vec get_similar_words {e}\")\n",
    "            return None\n",
    "\n",
    "    \"\"\"\n",
    "    Unknown Colloquial Tokens\n",
    "    \"\"\"\n",
    "\n",
    "    def get_back_interesting_token_and_similar_words(self, text):\n",
    "        text_tokens = self.provider.preprocess_utils.process_context(text)[0]\n",
    "        for token in text_tokens:\n",
    "            if token not in self.formal_tokens:\n",
    "                sim_words = self.get_similar_words_from_formal_or_both(token, topn=9)\n",
    "                if sim_words:\n",
    "                    return token, sim_words\n",
    "        return None, None\n"
   ]
  },
  {
   "cell_type": "code",
   "execution_count": 15,
   "id": "adbb2b52",
   "metadata": {
    "execution": {
     "iopub.execute_input": "2022-11-14T22:19:23.935184Z",
     "iopub.status.busy": "2022-11-14T22:19:23.934748Z",
     "iopub.status.idle": "2022-11-14T22:19:23.939610Z",
     "shell.execute_reply": "2022-11-14T22:19:23.938477Z"
    },
    "papermill": {
     "duration": 0.018941,
     "end_time": "2022-11-14T22:19:23.941781",
     "exception": false,
     "start_time": "2022-11-14T22:19:23.922840",
     "status": "completed"
    },
    "tags": []
   },
   "outputs": [],
   "source": [
    "# Word2VecLanguageModelService.model_path_load = \"../input/train-word2vec-for-one-epoch/word2vec.model\"\n",
    "# Word2VecLanguageModelService.formal_tokens_path_load = \"../input/train-word2vec-for-one-epoch/formal_tokens.json\""
   ]
  },
  {
   "cell_type": "code",
   "execution_count": 16,
   "id": "33f76037",
   "metadata": {
    "execution": {
     "iopub.execute_input": "2022-11-14T22:19:23.964975Z",
     "iopub.status.busy": "2022-11-14T22:19:23.964548Z",
     "iopub.status.idle": "2022-11-14T22:19:23.968862Z",
     "shell.execute_reply": "2022-11-14T22:19:23.967696Z"
    },
    "papermill": {
     "duration": 0.018522,
     "end_time": "2022-11-14T22:19:23.971039",
     "exception": false,
     "start_time": "2022-11-14T22:19:23.952517",
     "status": "completed"
    },
    "tags": []
   },
   "outputs": [],
   "source": [
    "# wv_service = Word2VecLanguageModelService(load_model=False)\n",
    "# wv_service.train_model()"
   ]
  },
  {
   "cell_type": "code",
   "execution_count": 17,
   "id": "28655f56",
   "metadata": {
    "execution": {
     "iopub.execute_input": "2022-11-14T22:19:23.994172Z",
     "iopub.status.busy": "2022-11-14T22:19:23.993772Z",
     "iopub.status.idle": "2022-11-14T22:19:23.999475Z",
     "shell.execute_reply": "2022-11-14T22:19:23.998379Z"
    },
    "papermill": {
     "duration": 0.020233,
     "end_time": "2022-11-14T22:19:24.001841",
     "exception": false,
     "start_time": "2022-11-14T22:19:23.981608",
     "status": "completed"
    },
    "tags": []
   },
   "outputs": [],
   "source": [
    "# !wget \"https://www.kaggleusercontent.com/kf/110334917/eyJhbGciOiJkaXIiLCJlbmMiOiJBMTI4Q0JDLUhTMjU2In0..zCRVqUG8lLD_l0-LFobTCQ.cAaAezHgfqNUWYbIDsfiQ3qsiB30jH1DtLGuUp6EraHDrKZw5TppyTZ0FjyDHx7-YMAbzm_x8P3KHNdHQan47w0d991UgCk6Kb_7Iab1azGhIaEJYqAixUP5_V1i41mdCx2rObh-s68p7lrgCQxmUOnKcA_lU2ejk7VzNZDkwMTrAY5A_3XB9TWrC0re5otJSVYW7-SafyJFQIboAlKqJhHrxwGS8OXMBgGafDDU-89FkKTGpkx8aDQSsJZj2bU1gW72rThnlp5-yqm-48i-vOmObBXFniW3aDG2ZqrEhNtqy31EM0elY5Pnfai4iA2z8l1iiYbPlYBV8Lie_tiXyr22F-dwl4wvy7xnFWcaVIw-kbI9DcA1gNl4tN0WUrltpbFnm7IH8rMTKML4zVOneY7oSWlIAjAuB-_k0ZdihtuJqbR1Fa5unqxBnqV7g4MCzmU3XuxZR-Nr7Gx9_GBxXTSRcyPXCFmcUAYAHlhG8LsVCJDu9L6LgmTEtbPS8Hm68DJesWcLa7CfigtB1CZEZOAn4Jl3tRhrDj-GqYSepTNITFy4HISHD7ZbjrCx95J7nWzw22fLrYuDiEWbGPPxXmI8mgusOyS7Q67u1ly4yHv7d8BxwGr73uQ2-5Rrnu0YD0bk2XywNYMYetQA7kka9w.odRtcbFyzPuu1At2h85wJQ/word2vec.model1667892185.4770463.model\"\n",
    "# !wget \"https://www.kaggleusercontent.com/kf/110334917/eyJhbGciOiJkaXIiLCJlbmMiOiJBMTI4Q0JDLUhTMjU2In0..wNvCWEjzdMhQ7cHmc33wCA.fq2TIRSPoDD2i-e6m8Y2D_EMSX6ZebdfenWl74LChZl9k-HX3bU1rL3Wj5L3GQxCwo-9jpFsuPpom2QM5q5or83uWrV3-N11tVlN5NKSsV9IaLwpxzD7tknRB9MYmNgfIEMwXG5DQawNj8Fe8qXrZRZlYslgs95Nvje3NML9pq8YbkiHpp80UmwnLWeGj8cLaEFaxGOGDGhGpfkq1iPu24BRQvNC77KsoV95MQEj6sz01HFCVGHMRuEe7MA3H43sSvTeGCgn63hyEholWZ1HGyHtiwb7gky1lA_zLO2BYouVc2BqK08X9WR9nRq3SuaFRCqYbibevGpwPGYCPVViYEfhhrv4dcTzyWgQGHdl5NHxZiWdYLtrFFownb4Ht-dO_N8f84dE7JKMKKISyEpb1QsqX9SrljxJBFwfXcZ911IBBz1jRm3io0s94ICOUu0fSxLWlHUrL4hjR-jZ-cU2OWlZsYGWfYAG-11gJO2rEr0YPRdFipFCPwnlXiaFc9w25017MoLJ2ir_RLQTKK5LmCmdF_scnpK9yXclYgAAX8tN8PFB1R4vYKiT-VXvpN15KbCPN24GAtkri8BJWkU-LfddR3Lu_xbs28XSoMt8jMiX0k82BeNXVs0s4UkiecCnyP7_Zmd6ggox3pXiOUgRXA.bY5SASfpMMKsst19vYOLiw/word2vec.model1667892185.4770463.model.syn1neg.npy\"\n",
    "# !wget \"https://www.kaggleusercontent.com/kf/110334917/eyJhbGciOiJkaXIiLCJlbmMiOiJBMTI4Q0JDLUhTMjU2In0..svEA3Jc0LtUP-It22lyHZA.hwkZd1Vica8FHJhRDTSvm9O62Inpf7q58v7SFohWpjH7ZxOXeZLrYpG-1GophvI7E_V19YA6HtGTLL4wUIzL5xvXeDa981gDougGy5AJnjA8pu2hz8vKTDF1EAXASQ59jrip9aBQjiuqEeOfwjqWzEwafBfCcD07h91uztj7qDzpfMkOIM9K9bJyGufzl76NT8e9a9nvoBDZuUTF3YMQ72fUuse6BeEehYAMVmEw5t4nX9Dr_EiWq2Arr-hGTf9W5iSbvWdJ0xlOU6LdbjEICKGRgSZewfOyjiforyLMviu_vRGzRk6V5gPC0uZpW1dYORTebRowd-RQXSu9BMAUHuT0j_80ZUGsd9eok2DUA7mm75YIesd3tvl2dV9duSqq_U7NdlqS0w6DuktdKaOBIv4c4mdCaudxOi7qpZ6pSIPTszP9Fj0IvTcjo3AG06JLp4SbNTFI4o9E5uaLqcSJ3QWnDFyKO-obLw1daRungn-tJdnLJ_kJQ6HCFEifowbfNcJPGpFZCCJgA4U-9CylymXYgJK4JnaBYPQhMpfG9hYqvQySmCyH2gZdC135jSnIisZ6EaeFAbs351rIGkE0aidmriGXJhnhruNq4yA_YK7hCQHD1MOdLSO-ViPHGQsdeXfGXL4_Ui7Vz8m_YXS_Xg.L6jJzTFkrc-M1jM3lj-7sA/word2vec.model1667892185.4770463.model.wv.vectors.npy\""
   ]
  },
  {
   "cell_type": "code",
   "execution_count": 18,
   "id": "f7009378",
   "metadata": {
    "execution": {
     "iopub.execute_input": "2022-11-14T22:19:24.024874Z",
     "iopub.status.busy": "2022-11-14T22:19:24.024489Z",
     "iopub.status.idle": "2022-11-14T22:19:24.029114Z",
     "shell.execute_reply": "2022-11-14T22:19:24.027839Z"
    },
    "papermill": {
     "duration": 0.018725,
     "end_time": "2022-11-14T22:19:24.031164",
     "exception": false,
     "start_time": "2022-11-14T22:19:24.012439",
     "status": "completed"
    },
    "tags": []
   },
   "outputs": [],
   "source": [
    "# Word2VecLanguageModelService.formal_tokens_path = \"/kaggle/working/formal_tokens.json\"\n",
    "# word2vec_service = Word2VecLanguageModelService(load_model=False)\n",
    "# word2vec_service.process_all_formal_tokens_and_save()"
   ]
  },
  {
   "cell_type": "code",
   "execution_count": 19,
   "id": "127574f1",
   "metadata": {
    "execution": {
     "iopub.execute_input": "2022-11-14T22:19:24.053867Z",
     "iopub.status.busy": "2022-11-14T22:19:24.053474Z",
     "iopub.status.idle": "2022-11-14T22:19:24.058607Z",
     "shell.execute_reply": "2022-11-14T22:19:24.057440Z"
    },
    "papermill": {
     "duration": 0.018956,
     "end_time": "2022-11-14T22:19:24.060737",
     "exception": false,
     "start_time": "2022-11-14T22:19:24.041781",
     "status": "completed"
    },
    "tags": []
   },
   "outputs": [],
   "source": [
    "# !wget \"https://www.kaggleusercontent.com/kf/110519903/eyJhbGciOiJkaXIiLCJlbmMiOiJBMTI4Q0JDLUhTMjU2In0..9jax_tyR6KQla8Pt5BkkNg.9n6Ji8fr2VBN8m2bkBTrES99G5O14MhxabbSltX0HflGapris0YoPVwAXY17xa1paFE-XUkPBOGCznx948r62tC1GvPmuXoZhh37jjy7URsF09bp4O4o7qu5vW6tvuJ7wIR8FR_JLycEembTzFAWa0rlDukD1VEKHhxiaUqEZ8M0O7I0fmbJNWKV1lRX_2oP2JP2TsQ-uqWTvaetGK_BPNThy2GOX6qMMSg5BHeRiOTxLxWEyUBdh9lAg64PzYa2s3NmdNcl8QC5ibs2uKwG6U-HSR7Hr5vPBbRovQ3lTHw-lV7yuV5TBikcuICu2BgBjMMy1hJq0-WHCcPohnupCWtUVEfxY2C71ryuOOcpn8xiL6cRCnp5cVGMEq868dKYdHyMHHYEo_eWFpODJcDGEG6T-PA7uzl5OpnKILVCwHYA_Kf10fo9B8Ox2pUZJGoYiZTVMeTv_HgDGRnrBCzyaihMsTe0w9BjyhogCukdf4cMa5-GZZnYYi8cBAcOb-fblNIi3P8sFswcersiu--x2DoIeTpoo0rUJ0p_KtcTKUJgaVQhmzztUnE1WLCBNpFqExHQ3WLvlOf4rXrXoJ_WSqR2QO0VV6T5yy6ab6In8j7YNOeZQPGPtqwP3l3C8JpUhMvWLcQjTGlssAtPHTNWFg.ZWXiHgDVt1yAKEP6tiF7rQ/formal_tokens.json\""
   ]
  },
  {
   "cell_type": "code",
   "execution_count": 20,
   "id": "1b568bf2",
   "metadata": {
    "execution": {
     "iopub.execute_input": "2022-11-14T22:19:24.084108Z",
     "iopub.status.busy": "2022-11-14T22:19:24.083365Z",
     "iopub.status.idle": "2022-11-14T22:19:24.088537Z",
     "shell.execute_reply": "2022-11-14T22:19:24.087729Z"
    },
    "papermill": {
     "duration": 0.019292,
     "end_time": "2022-11-14T22:19:24.090587",
     "exception": false,
     "start_time": "2022-11-14T22:19:24.071295",
     "status": "completed"
    },
    "tags": []
   },
   "outputs": [],
   "source": [
    "# !wget \"https://www.kaggleusercontent.com/kf/110519903/eyJhbGciOiJkaXIiLCJlbmMiOiJBMTI4Q0JDLUhTMjU2In0..ntKOxmMLUsirKrm9CN7IIg.dj4QkBktFfEkqjQoyyI10W43vkc-iATvjs7ZCagqKctwjZZGzp_Az_-GEf7V6oTMe14S0_EIwYlhCKRm0EoPc9qwDtzDjRKxGYt9VKdlsuMlpjetk-FrnRCdIeR1BbwVttZL-q4wLiSF-C--37CdQoRyQQWUrwS7WxGkRScYzDeCCKlUcm5R5X4xXjeZ5vkhlTl0eGTPN6hXWK6gsvjtwEPWvQPz7VBk8_sipLJ0ztaY2InIQ7vFRfxeoJaBqzT331Utbgt1NMDYUlk8XbE_SBgT6ieUnlJ4UsXkeD1CdV9DU44oiuifGn6OPcP1iLEPosWjg0_D_10BearXXKlxS5d7a0u6os06Aslw48f7x8AQZDk4mqWnitHnrJPbF6ClLg99HhQtGtdTyXrvxsLB-gwJuf-a2Pj0dzkLi9Yg3n6rZ6SSxfl8qagj2M0uYAjsNWZu28rTu3lV11gt4TQ-L1qqxOEYq6vrXbsTbyFOCKQTCLRqVQexb5SLflWrlJRqZw-T1TbRitwckM5GJ1qvUZy8hbrsk1QaLHiPm-uyXve_pJH4BFMBB76VHASwFRRzLTQIzZ_LUEtMV1B2_w6tKpU-t3RVLmGR9ifdjCoI-oJPDwOKCEhxqStz7NM8d-PsOHG8kTZ6xo2URWRIAEBMjQ.BRICJUn0MlR8jAkZJvhDpQ/word2vec.model1668043951.0301144.model\"\n",
    "# !wget \"https://www.kaggleusercontent.com/kf/110519903/eyJhbGciOiJkaXIiLCJlbmMiOiJBMTI4Q0JDLUhTMjU2In0..VhSI42laxYSLf5k4WITZ8A.9mxYjzgj79TYJCx-C1k97M0lTq3GdnBAzKLqKBj52urwCfnWlSXY8G9wUwTxoH1Tzze7wsA7G5AweicR-qlwrUu6u7KTeEm8IwT-1nQyjjbGXlA7DjFvVJAwxNUqOodFtq7AVftu1pHzNPcxtUrR1_6dxHRn4tyN5-d7EylgG7AUeW16ee1F1PovMurS8nureMM4WlMnv65aSEfYwKWhZvzG77yt3bD8kbUzQzesopOdwkp0-5wAGXG50p5-B7GARO8AYEak5j_gUZpSBcKGX5dSWYPGWZaMQjaZvElSkpFqlymlGkF9a3KzOBKqiLFmFPpA-bPWmUEd2tGbfF-T-Jx5Tes4jOPOJErvsLBBUafwES4LWa_GUV_Codx_ysJrxoLGfR73UE7zE-WLazCV3NhAf5klQOn10CcWp3rBgYO1RYwLs7Vr1jKpqsOWRFUm_X02bBgekkVr8XGEDcNxhEulkP7u8I9NDIi_Ly_Z12_Kr6ymEhEQj4PjpQvC__ogpOQkjqNKcSrVOCFEVXYy_S7CBDCrU02gS6IiqM9f3QTMCb6Q3oE76yyXkKIxJ7NQ0atLvhMVu2tYsjoP6-0nyeSkaWRetvJlnzCE39BdL7PH06yX7APisFd3IFR0nwLB6QXo5YiFzV_pz73TRgSrDQ.VOGa4A0zsubveXIaelgxKQ/word2vec.model1668043951.0301144.model.syn1neg.npy\"\n",
    "# !wget \"https://www.kaggleusercontent.com/kf/110519903/eyJhbGciOiJkaXIiLCJlbmMiOiJBMTI4Q0JDLUhTMjU2In0..-X7Ep_oTxLWtiBIRR3pQzA.7QOw8U8FT31Kak6zb3h2yCSTVLMMiUBy0OXIiDdpEaygqFXRhBaMASj_bJG3tZtGeSQC1CSfnS5KRhOnKw6tLL7uH0LHBXKUFL2bjkX0YGWHZviFMZnJGuo-wj4aW6zYhVz2vvO4xOdja3dJhyVGTDBP862wCKM8EgtDEZLMwy5X3dHtRghJsmxt-CXPiirzmEPwYh6jZvQlF6KcZeKROmsUdIEeclrAoQhFgYrcrzA2q5mEGJAvo7dRu7PsDz_uMrgxUCF_ynkK1g7Lm8GkqmImM14V8RNlUSDwXESzBj9Ooo1k8YzAVvNa-sUPCqJJSOJuU7WH4Ts7CuUFxxIzi8QUF-OKljMdqwgA2Z-S19bjwp9Yrck3nscKU04B3wMlFWCU61KvmFdflxZNPqt_FCiPOy3lsAVikp6CJs638cMu7WkY6dz6LYZSJEWF_JtmBzzmTHIWmgx81_vJx-NgsBKolGbopDRNHnR_LErbDpxHdHoLF4tVMS2xrD1zU3b8oxrY1-TK6TXzaIpyJ_EiSOThnTwzhutmRsAnonJwMPP6-VB9g80qfMcbj8lStSFhAcJw51hcNxvRhJlwoqrxg16CmCSxbUqHHLrwFFvl1zozOocP1Kqr_Iw4DJJEJK7FOaWc9SbiFcDvd68kqcUYbA.ziO2A_aBGaimkoqSg0Q9XQ/word2vec.model1668043951.0301144.model.wv.vectors.npy\""
   ]
  },
  {
   "cell_type": "code",
   "execution_count": 21,
   "id": "c945947e",
   "metadata": {
    "execution": {
     "iopub.execute_input": "2022-11-14T22:19:24.113740Z",
     "iopub.status.busy": "2022-11-14T22:19:24.113054Z",
     "iopub.status.idle": "2022-11-14T22:19:24.116887Z",
     "shell.execute_reply": "2022-11-14T22:19:24.116162Z"
    },
    "papermill": {
     "duration": 0.017658,
     "end_time": "2022-11-14T22:19:24.118841",
     "exception": false,
     "start_time": "2022-11-14T22:19:24.101183",
     "status": "completed"
    },
    "tags": []
   },
   "outputs": [],
   "source": [
    "# Word2VecLanguageModelService.model_path = \"./word2vec.model1668043951.0301144.model\"\n",
    "# Word2VecLanguageModelService.formal_tokens_path = \"./formal_tokens.json.1\"\n",
    "# wv_service = Word2VecLanguageModelService(load_model=True)"
   ]
  },
  {
   "cell_type": "code",
   "execution_count": 22,
   "id": "6be901db",
   "metadata": {
    "execution": {
     "iopub.execute_input": "2022-11-14T22:19:24.142096Z",
     "iopub.status.busy": "2022-11-14T22:19:24.141400Z",
     "iopub.status.idle": "2022-11-14T22:19:24.145502Z",
     "shell.execute_reply": "2022-11-14T22:19:24.144461Z"
    },
    "papermill": {
     "duration": 0.018234,
     "end_time": "2022-11-14T22:19:24.147554",
     "exception": false,
     "start_time": "2022-11-14T22:19:24.129320",
     "status": "completed"
    },
    "tags": []
   },
   "outputs": [],
   "source": [
    "# import torch\n",
    "# from transformers import BertTokenizer, BertForMaskedLM, pipeline, AdamW\n",
    "# model_pretrained_name = \"HooshvareLab/bert-fa-zwnj-base\"\n",
    "# _tokenizer = BertTokenizer.from_pretrained(model_pretrained_name)"
   ]
  },
  {
   "cell_type": "code",
   "execution_count": 23,
   "id": "f374640a",
   "metadata": {
    "execution": {
     "iopub.execute_input": "2022-11-14T22:19:24.170792Z",
     "iopub.status.busy": "2022-11-14T22:19:24.170053Z",
     "iopub.status.idle": "2022-11-14T22:19:24.174801Z",
     "shell.execute_reply": "2022-11-14T22:19:24.173824Z"
    },
    "papermill": {
     "duration": 0.018891,
     "end_time": "2022-11-14T22:19:24.176982",
     "exception": false,
     "start_time": "2022-11-14T22:19:24.158091",
     "status": "completed"
    },
    "tags": []
   },
   "outputs": [],
   "source": [
    "# formal_tokens = set(wv_service.formal_tokens)\n",
    "# print(len(formal_tokens), len(_tokenizer.vocab))\n",
    "# formal_tokens.update([wv_service.provider.process_context(token)[0] if wv_service.provider.process_context(token)  else \"#Digits#\"  for token in _tokenizer.vocab])\n",
    "# print(len(formal_tokens))\n",
    "# with open(\"./formal_tokens_merged_with_bert.json\", 'w') as file:\n",
    "#     tokens_list = list(formal_tokens)\n",
    "#     file.write(json.dumps(tokens_list, ensure_ascii=False))"
   ]
  },
  {
   "cell_type": "code",
   "execution_count": 24,
   "id": "b7c642ce",
   "metadata": {
    "execution": {
     "iopub.execute_input": "2022-11-14T22:19:24.200202Z",
     "iopub.status.busy": "2022-11-14T22:19:24.199482Z",
     "iopub.status.idle": "2022-11-14T22:19:24.204660Z",
     "shell.execute_reply": "2022-11-14T22:19:24.203851Z"
    },
    "papermill": {
     "duration": 0.019316,
     "end_time": "2022-11-14T22:19:24.206799",
     "exception": false,
     "start_time": "2022-11-14T22:19:24.187483",
     "status": "completed"
    },
    "tags": []
   },
   "outputs": [],
   "source": [
    "# !wget \"https://www.kaggleusercontent.com/kf/110519903/eyJhbGciOiJkaXIiLCJlbmMiOiJBMTI4Q0JDLUhTMjU2In0..FZx5oFoqSQay7uEATb5d3Q.pXWPOoPXg163CYlK-Hd0ka_wX0JLv4FqOKsy-ascG-OKxzC0luTtKOJfYyXpNjNGJVlj0I9zi4E8pzHJj7MQSR5sQSdV0DJi8O1hvrYFUgUl4Wvv3kG_BrAoixvbo8D8d4UgBZl3A-06W1QOTWzqASCrFlwTHac3tNmO5mX-8Z1vGL-cGFeOFXARKL6p4ckJvA4Ylkc-OjF06AkSnslzpHgVzxHG-EAN5bOMT8YgljYztPgo50uB5RYpgOwopZR2AoS49a07BeCLnQ2Gaf6npjitOx7Y0ivwaVsP01L3nkVYD0BDmez_3m1s6q4ITQXM3oHTf_QgCbzybtKbGMbPAqyg8xH5jvKK0R83zxNi8nOjC8ztym1EqRPi6fmTzYKyp3_ROUX8q-6meGeS6arIF4ZvK5P-W3DHj9Cybz2pCbQkrxLs4hWqx8wKfK774eHl2zmCPevbBiz1iLOGQ32Y40bAElaDYwgla1lSMFrF8ZjgqMd8ptOCPpRelW4-Z8ggzElyFGgKeL9WeNFal0C9u4p0fI2D1GfSzXJNY32CQdfX9IWa_9OLL-YjkTw1Gy1riz_aR3tolSA8GUAeSeHWGiH_F17dnnNp3r3p_ukw0zy7wd6_k-mRo18_g1A3f3SU3CWGao23qn0ZPuxTnJLEGw.twCQiGgJchYrNxUjSkZKHA/word2vec.model1668043951.0301144.model\"\n",
    "# !wget \"https://www.kaggleusercontent.com/kf/110519903/eyJhbGciOiJkaXIiLCJlbmMiOiJBMTI4Q0JDLUhTMjU2In0..dORZS3Srf-2eymEqRNToDQ.LHwKbHmy2DsK0xw6HdIG6swk52C7hRYSMJVIJAbXfZWblbs7aOF2jCCemrahKbf3mTEHYQtpUdTzf9dcCH2kBgy5Blc7frRyHdzzaiAIMV1ueW_CevTL9b-Zc__ahvFf6w9gaw85-98kvcWNopcSj4mZFCv_t64fhN91oiZQWLyJXPaM9WtBwlJOEGEoYsqrDXoTddfPbZzuweLBdtWgnYUJBH5NF2pVLTIdkJjgxEKPkO1GXa6CEgIqfT2eOdhcOeP9RiH6ws7hPnDUV7Q7j4eCvLhC11lNBmKR7kTnbtDKow1JGMDwb0rDbdKjHfWqRVgXyiPCXOTQGFI1WlUXefkQgHQt05Zp9MVSRfa_4mUdSqoiMsASV3CXs2j8HZNIYOZFG_wRICMB4POfxY2DMpN4EtNr4UD-qZkrgOdR8WncuHCyobn16xLNEa0dGnQO5dMxk4qBe8lz5xE5gJYYRaR3kMns6UdfiaOE8xhlvflhoxoSmYY72CW4lS-6UHvePtn7CsAp9k4nYSCHOEqDMKJ5cPUoyfxeIprMVWX54JQCCcmZ8ccts5Kl26WndF5jLrGW7xVYuiNvTyO_LBtY6-Q3XZ81Tr4exJptzKFqSyy9TnunULl4xOUURqqGRKRsxZr6EV1x_wstYjsO_mOwSg.zsrLt7UB2rj2sUvaAyM1Eg/word2vec.model1668043951.0301144.model.syn1neg.npy\"\n",
    "# !wget \"https://www.kaggleusercontent.com/kf/110519903/eyJhbGciOiJkaXIiLCJlbmMiOiJBMTI4Q0JDLUhTMjU2In0..Uaq2ns_UXZyet23L_m9_Jw.CrUfsszWqGdSwpUs4LF5-JsveDQZ47ocf508cCz3M2CjnQDJoWLqDiywwl3kj7TAikOlbDs-ayenN83mNx0f-fWrDJs6p3MY39Nmj73ehBYqYzsqLXGssi6Cz_241DSXKzdtyv3l7DSNdd23HjSpt0SZYB9Sp2284XqjQG_QRPxGyEAPgpqBjz_u1q-orUz4PhNtK8k2kxcUyy-H0tyRGyQ32REHrv0lnK4ef5UessOdZEOJVHwwLRW6E2o-Txh3tt9opkso5rK1t7Ll2hDhBghkCN8vF_sQy4QSVZ6G-uPr8lMbIGhD_gQgSImpHGJsvnZHP-33PRInVCwLDF8yRsVdoa4sn1b2u5hTXL10i22iV1FkUPXCqUOqCATyFLc5pvLQzZ7N8EAsiyURZreEK7cEzQRltnSS9YZukm6ijNHbS5N9ZqCd-mRprPyHWEgr5EM87jUuRXiX_9ZDbShdWkJOc2W1O3tbC8PaosN-r4wEBYYSFCiHreJOsj2IM21iURQNjO5Xe1mpdbhFTp_RAU3fgjhlMfQiPJjhGDoadRqRK6E0fRg_grKWi-hEMP_x53y-dTEFaSitVxeiNhCNTSH-Q8N3lDzJkeGAZ0aTMgM4E8kwPrCjlm6foV4nThUwgXNRMi9BI6d_NGl5LA6Jig.EOik77NhftRPsiXeiUKTVQ/word2vec.model1668043951.0301144.model.wv.vectors.npy\""
   ]
  },
  {
   "cell_type": "code",
   "execution_count": 25,
   "id": "b1aab2c3",
   "metadata": {
    "execution": {
     "iopub.execute_input": "2022-11-14T22:19:24.230228Z",
     "iopub.status.busy": "2022-11-14T22:19:24.229813Z",
     "iopub.status.idle": "2022-11-14T22:19:26.790321Z",
     "shell.execute_reply": "2022-11-14T22:19:26.788842Z"
    },
    "papermill": {
     "duration": 2.575849,
     "end_time": "2022-11-14T22:19:26.793469",
     "exception": false,
     "start_time": "2022-11-14T22:19:24.217620",
     "status": "completed"
    },
    "tags": []
   },
   "outputs": [
    {
     "name": "stdout",
     "output_type": "stream",
     "text": [
      "--2022-11-14 22:19:25--  https://github.com/amirmosio/ColloquialWordProject/raw/main/language_model/kaggle_outputs/formal_tokens_merged_with_bert.json\r\n",
      "Resolving github.com (github.com)... 140.82.114.3\r\n",
      "Connecting to github.com (github.com)|140.82.114.3|:443... connected.\r\n",
      "HTTP request sent, awaiting response... 302 Found\r\n",
      "Location: https://raw.githubusercontent.com/amirmosio/ColloquialWordProject/main/language_model/kaggle_outputs/formal_tokens_merged_with_bert.json [following]\r\n",
      "--2022-11-14 22:19:25--  https://raw.githubusercontent.com/amirmosio/ColloquialWordProject/main/language_model/kaggle_outputs/formal_tokens_merged_with_bert.json\r\n",
      "Resolving raw.githubusercontent.com (raw.githubusercontent.com)... 185.199.108.133, 185.199.111.133, 185.199.109.133, ...\r\n",
      "Connecting to raw.githubusercontent.com (raw.githubusercontent.com)|185.199.108.133|:443... connected.\r\n",
      "HTTP request sent, awaiting response... 200 OK\r\n",
      "Length: 12012215 (11M) [text/plain]\r\n",
      "Saving to: ‘formal_tokens_merged_with_bert.json’\r\n",
      "\r\n",
      "formal_tokens_merge 100%[===================>]  11.46M  --.-KB/s    in 0.06s   \r\n",
      "\r\n",
      "2022-11-14 22:19:26 (190 MB/s) - ‘formal_tokens_merged_with_bert.json’ saved [12012215/12012215]\r\n",
      "\r\n"
     ]
    }
   ],
   "source": [
    "!wget \"https://github.com/amirmosio/ColloquialWordProject/raw/main/language_model/kaggle_outputs/formal_tokens_merged_with_bert.json\" "
   ]
  },
  {
   "cell_type": "code",
   "execution_count": 26,
   "id": "8b3cdca1",
   "metadata": {
    "execution": {
     "iopub.execute_input": "2022-11-14T22:19:26.818570Z",
     "iopub.status.busy": "2022-11-14T22:19:26.818139Z",
     "iopub.status.idle": "2022-11-14T22:20:44.421841Z",
     "shell.execute_reply": "2022-11-14T22:20:44.420477Z"
    },
    "papermill": {
     "duration": 77.619488,
     "end_time": "2022-11-14T22:20:44.424793",
     "exception": false,
     "start_time": "2022-11-14T22:19:26.805305",
     "status": "completed"
    },
    "tags": []
   },
   "outputs": [],
   "source": [
    "Word2VecLanguageModelService.model_path_load = \"../input/train-word2vec-for-one-epoch/word2vec.model1668043951.0301144.model\"\n",
    "Word2VecLanguageModelService.model_path_save = \"./word2vec.model\"\n",
    "Word2VecLanguageModelService.formal_tokens_path_load = \"./formal_tokens_merged_with_bert.json\"\n",
    "wv_service = Word2VecLanguageModelService(load_model=True)\n"
   ]
  },
  {
   "cell_type": "code",
   "execution_count": 27,
   "id": "2b0a8129",
   "metadata": {
    "execution": {
     "iopub.execute_input": "2022-11-14T22:20:44.449753Z",
     "iopub.status.busy": "2022-11-14T22:20:44.449339Z",
     "iopub.status.idle": "2022-11-15T08:07:19.705707Z",
     "shell.execute_reply": "2022-11-15T08:07:19.704338Z"
    },
    "papermill": {
     "duration": 35195.273561,
     "end_time": "2022-11-15T08:07:19.709997",
     "exception": false,
     "start_time": "2022-11-14T22:20:44.436436",
     "status": "completed"
    },
    "tags": []
   },
   "outputs": [
    {
     "name": "stdout",
     "output_type": "stream",
     "text": [
      "Saving model...\n",
      "Saved.\n",
      "10000-10000-10000-10000-10000-10000-10000-10000-10000-10000-10000-10000-10000-10000-10000-10000-10000-10000-10000-10000-10000-10000-10000-10000-10000-10000-10000-10000-10000-10000-10000-10000-10000-10000-10000-10000-10000-10000-10000-10000-10000-10000-10000-10000-10000-10000-10000-10000-10000-10000-10000-10000-10000-10000-10000-10000-10000-10000-10000-10000-10000-10000-10000-10000-10000-10000-10000-10000-10000-10000-10000-10000-10000-10000-10000-10000-10000-10000-10000-10000-10000-10000-10000-10000-10000-10000-10000-10000-10000-10000-10000-10000-10000-10000-10000-10000-10000-10000-10000-10000-10000-10000-10000-10000-10000-10000-10000-10000-10000-10000-10000-10000-10000-10000-10000-10000-10000-10000-10000-10000-10000-10000-10000-10000-10000-10000-10000-10000-10000-10000-10000-10000-10000-10000-10000-10000-10000-10000-10000-10000-10000-10000-10000-10000-10000-10000-10000-10000-10000-10000-10000-10000-10000-10000-10000-10000-10000-10000-10000-10000-10000-10000-10000-10000-10000-10000-10000-10000-10000-10000-10000-10000-10000-10000-10000-10000-10000-10000-10000-10000-10000-10000-10000-10000-10000-10000-10000-10000-10000-10000-10000-10000-10000-10000-10000-10000-10000-10000-10000-10000-10000-10000-10000-10000-10000-10000-10000-10000-10000-10000-10000-10000-10000-10000-10000-10000-10000-10000-10000-10000-10000-10000-10000-10000-10000-10000-10000-10000-10000-10000-10000-10000-10000-10000-10000-10000-10000-10000-10000-10000-10000-10000-10000-10000-10000-10000-10000-10000-10000-10000-10000-10000-10000-10000-10000-10000-10000-10000-10000-10000-10000-10000-10000-10000-10000-10000-10000-10000-10000-10000-10000-10000-10000-10000-10000-10000-10000-10000-10000-10000-10000-10000-10000-10000-10000-10000-10000-10000-10000-10000-10000-10000-10000-10000-10000-10000-10000-10000-10000-10000-10000-10000-10000-10000-10000-10000-10000-10000-10000-10000-10000-10000-10000-10000-10000-10000-10000-10000-10000-10000-10000-10000-10000-10000-10000-10000-10000-10000-10000-10000-10000-10000-10000-10000-10000-10000-10000-10000-10000-10000-10000-10000-10000-10000-10000-10000-10000-10000-10000-10000-10000-10000-10000-10000-10000-10000-10000-10000-10000-10000-10000-10000-10000-10000-10000-10000-10000-10000-10000-10000-10000-10000-10000-10000-10000-10000-10000-10000-10000-10000-10000-10000-10000-10000-10000-10000-10000-10000-10000-10000-10000-10000-10000-10000-10000-10000-10000-10000-10000-10000-10000-10000-10000-10000-10000-10000-10000-10000-10000-10000-10000-10000-10000-10000-10000-10000-10000-10000-10000-10000-10000-10000-10000-10000-10000-10000-10000-10000-10000-10000-10000-10000-10000-10000-10000-10000-10000-10000-10000-10000-10000-10000-10000-10000-10000-10000-10000-10000-10000-10000-10000-10000-10000-10000-10000-10000-10000-10000-10000-10000-10000-10000-10000-10000-10000-10000-10000-10000-10000-10000-10000-10000-10000-10000-10000-10000-10000-10000-10000-10000-10000-10000-10000-10000-10000-10000-10000-10000-10000-10000-10000-10000-10000-10000-10000-10000-10000-10000-10000-10000-10000-10000-10000-10000-10000-10000-10000-10000-10000-10000-10000-10000-10000-10000-10000-10000-10000-10000-10000-10000-10000-10000-10000-10000-10000-10000-10000-10000-10000-10000-10000-10000-10000-10000-10000-10000-10000-10000-10000-10000-10000-10000-10000-10000-10000-10000-10000-10000-10000-10000-10000-10000-10000-10000-10000-10000-10000-10000-10000-10000-10000-10000-10000-10000-10000-10000-10000-10000-10000-10000-10000-10000-10000-10000-10000-10000-10000-10000-10000-10000-10000-10000-10000-10000-10000-10000-10000-10000-10000-10000-10000-10000-10000-10000-10000-10000-10000-10000-10000-10000-10000-10000-10000-10000-10000-10000-10000-10000-10000-10000-10000-10000-10000-10000-10000-10000-10000-10000-10000-10000-10000-10000-10000-10000-10000-10000-10000-10000-10000-10000-10000-10000-10000-10000-10000-10000-10000-10000-10000-10000-10000-10000-10000-10000-10000-10000-10000-10000-10000-10000-10000-10000-10000-10000-10000-10000-10000-10000-10000-10000-10000-10000-10000-10000-10000-10000-10000-10000-10000-10000-10000-10000-10000-10000-10000-10000-10000-10000-10000-10000-10000-10000-10000-10000-10000-10000-10000-10000-10000-10000-10000-10000-10000-10000-10000-10000-10000-10000-10000-10000-10000-10000-10000-10000-10000-10000-10000-10000-10000-10000-10000-10000-10000-10000-10000-10000-10000-10000-10000-10000-10000-10000-10000-10000-10000-10000-10000-10000-10000-10000-10000-10000-10000-10000-10000-10000-10000-10000-10000-10000-10000-10000-10000-10000-10000-10000-10000-10000-10000-10000-10000-10000-10000-10000-10000-10000-10000-10000-10000-10000-10000-10000-10000-10000-10000-10000-10000-10000-10000-10000-10000-10000-10000-10000-10000-10000-10000-10000-10000-10000-10000-10000-10000-10000-10000-10000-10000-10000-10000-10000-10000-10000-10000-10000-10000-10000-10000-10000-10000-10000-10000-10000-10000-10000-10000-10000-10000-10000-10000-10000-10000-10000-10000-10000-10000-10000-10000-10000-10000-10000-10000-10000-10000-10000-10000-10000-10000-10000-10000-10000-10000-10000-10000-10000-10000-10000-10000-10000-10000-10000-10000-10000-10000-10000-10000-10000-10000-10000-10000-10000-10000-10000-10000-10000-10000-10000-10000-10000-10000-10000-10000-10000-10000-10000-10000-10000-10000-10000-10000-10000-10000-10000-10000-10000-10000-10000-10000-10000-10000-10000-10000-10000-10000-10000-10000-10000-10000-10000-10000-10000-10000-10000-10000-10000-10000-10000-10000-10000-10000-10000-10000-10000-10000-10000-10000-10000-10000-10000-10000-10000-10000-10000-10000-10000-10000-10000-10000-10000-10000-10000-10000-10000-10000-10000-10000-10000-10000-10000-10000-10000-10000-10000-10000-10000-10000-10000-10000-10000-10000-10000-10000-10000-10000-10000-10000-10000-10000-10000-10000-10000-10000-10000-10000-10000-10000-10000-10000-10000-10000-10000-10000-10000-10000-10000-10000-10000-10000-10000-10000-10000-10000-10000-10000-10000-10000-10000-10000-10000-10000-10000-10000-10000-10000-10000-10000-10000-10000-10000-10000-10000-10000-10000-10000-10000-10000-10000-10000-10000-10000-10000-10000-10000-10000-10000-10000-10000-10000-10000-10000-10000-10000-10000-10000-10000-10000-10000-10000-10000-10000-10000-10000-10000-10000-10000-10000-10000-10000-10000-10000-10000-10000-10000-10000-10000-10000-10000-10000-10000-10000-10000-10000-10000-10000-10000-10000-10000-10000-10000-10000-10000-10000-10000-10000-10000-10000-10000-10000-10000-10000-10000-10000-10000-10000-10000-10000-10000-10000-10000-10000-10000-10000-10000-10000-10000-10000-10000-10000-10000-10000-10000-10000-10000-10000-10000-10000-10000-10000-10000-10000-10000-10000-10000-10000-10000-10000-10000-10000-10000-10000-10000-10000-10000-10000-10000-10000-10000-10000-10000-10000-10000-10000-10000-10000-10000-10000-10000-10000-10000-10000-10000-10000-10000-10000-10000-10000-10000-10000-10000-10000-10000-10000-10000-10000-10000-10000-10000-10000-10000-10000-10000-10000-10000-10000-10000-10000-10000-10000-10000-10000-10000-10000-10000-10000-10000-10000-10000-10000-10000-10000-10000-10000-10000-10000-10000-10000-10000-10000-10000-10000-10000-10000-10000-10000-10000-10000-10000-10000-10000-10000-10000-10000-10000-10000-10000-10000-10000-10000-10000-10000-10000-10000-10000-10000-10000-10000-10000-10000-10000-10000-10000-10000-10000-10000-10000-10000-10000-10000-10000-10000-10000-10000-10000-10000-10000-10000-10000-10000-10000-10000-10000-10000-10000-10000-10000-10000-10000-10000-10000-10000-10000-10000-10000-10000-10000-10000-10000-10000-10000-10000-10000-10000-10000-10000-10000-10000-10000-10000-10000-10000-10000-10000-10000-10000-10000-10000-10000-10000-10000-10000-10000-10000-10000-10000-10000-10000-10000-10000-10000-10000-10000-10000-10000-10000-10000-10000-10000-10000-10000-10000-10000-10000-10000-10000-10000-10000-10000-10000-10000-10000-10000-10000-10000-10000-10000-10000-10000-10000-10000-10000-10000-10000-10000-10000-10000-10000-10000-10000-10000-10000-10000-10000-10000-10000-10000-10000-10000-10000-10000-10000-10000-10000-10000-10000-10000-10000-10000-10000-10000-10000-10000-10000-10000-10000-10000-10000-10000-10000-10000-10000-10000-10000-10000-10000-10000-10000-10000-10000-10000-10000-10000-10000-10000-10000-10000-10000-10000-10000-10000-10000-10000-10000-10000-10000-10000-10000-10000-10000-10000-10000-10000-10000-10000-10000-10000-10000-10000-10000-10000-10000-10000-10000-10000-10000-10000-10000-10000-10000-10000-10000-10000-10000-10000-10000-10000-10000-10000-10000-10000-10000-10000-10000-10000-10000-10000-10000-10000-10000-10000-10000-10000-10000-10000-10000-10000-10000-10000-10000-10000-10000-10000-10000-10000-10000-10000-10000-10000-10000-10000-10000-10000-10000-10000-10000-10000-10000-10000-10000-10000-10000-10000-10000-10000-10000-10000-10000-10000-10000-10000-10000-10000-10000-10000-10000-10000-10000-10000-10000-10000-10000-10000-10000-10000-10000-10000-10000-10000-10000-10000-10000-10000-10000-10000-10000-10000-10000-10000-10000-10000-10000-10000-10000-10000-10000-10000-10000-10000-10000-10000-10000-10000-10000-10000-10000-10000-10000-10000-10000-10000-10000-10000-10000-10000-10000-10000-10000-10000-10000-10000-10000-10000-10000-10000-10000-10000-10000-10000-10000-10000-10000-10000-10000-10000-10000-10000-10000-10000-10000-10000-10000-10000-10000-10000-10000-10000-10000-10000-10000-10000-10000-10000-10000-10000-10000-10000-10000-10000-10000-10000-10000-10000-10000-10000-10000-10000-10000-10000-10000-10000-10000-10000-10000-10000-10000-10000-10000-10000-10000-10000-10000-10000-10000-10000-10000-10000-10000-10000-10000-10000-10000-10000-10000-10000-10000-10000-10000-10000-10000-10000-10000-10000-10000-10000-10000-10000-10000-10000-10000-10000-10000-10000-10000-10000-10000-10000-10000-10000-10000-10000-10000-10000-10000-10000-10000-10000-10000-10000-10000-10000-10000-10000-10000-10000-10000-10000-10000-10000-10000-10000-10000-10000-10000-10000-10000-10000-10000-10000-10000-10000-10000-10000-10000-10000-10000-10000-10000-10000-10000-10000-10000-10000-10000-10000-10000-10000-10000-10000-10000-10000-10000-10000-10000-10000-10000-10000-10000-10000-10000-10000-10000-10000-10000-10000-10000-10000-10000-10000-10000-10000-10000-10000-10000-10000-10000-10000-10000-10000-10000-10000-10000-10000-10000-10000-10000-10000-10000-10000-10000-10000-10000-10000-10000-10000-10000-10000-10000-10000-10000-10000-10000-10000-10000-10000-10000-10000-10000-10000-10000-10000-10000-10000-10000-10000-10000-10000-10000-10000-10000-10000-10000-10000-10000-10000-10000-10000-10000-10000-10000-10000-10000-10000-10000-10000-10000-10000-10000-10000-10000-10000-10000-10000-10000-10000-10000-10000-10000-10000-10000-10000-10000-10000-10000-10000-10000-10000-10000-10000-10000-10000-10000-10000-10000-10000-10000-10000-10000-10000-10000-10000-10000-10000-10000-10000-10000-10000-10000-10000-10000-10000-10000-10000-10000-10000-10000-10000-10000-10000-10000-10000-10000-10000-10000-10000-10000-10000-10000-10000-10000-10000-10000-10000-10000-10000-10000-10000-10000-10000-10000-10000-10000-10000-10000-10000-10000-10000-10000-10000-10000-10000-10000-10000-10000-10000-10000-10000-10000-10000-10000-10000-10000-10000-10000-10000-10000-10000-10000-10000-10000-10000-10000-10000-10000-10000-10000-10000-10000-10000-10000-10000-10000-10000-10000-10000-10000-10000-10000-10000-10000-10000-10000-10000-10000-10000-10000-10000-10000-10000-10000-10000-10000-10000-10000-10000-10000-10000-10000-10000-10000-10000-10000-10000-10000-10000-10000-10000-10000-10000-10000-10000-10000-10000-10000-10000-10000-10000-10000-10000-10000-10000-10000-10000-10000-10000-10000-10000-10000-10000-10000-10000-10000-10000-10000-10000-10000-10000-10000-10000-10000-10000-10000-10000-10000-10000-10000-10000-10000-10000-10000-10000-10000-10000-10000-10000-10000-10000-10000-10000-10000-10000-10000-10000-10000-10000-10000-10000-10000-10000-10000-10000-10000-10000-10000-10000-10000-10000-10000-10000-10000-10000-10000-10000-10000-10000-10000-10000-10000-10000-10000-10000-10000-10000-10000-10000-10000-10000-10000-10000-10000-10000-10000-10000-10000-10000-10000-10000-10000-10000-10000-10000-10000-10000-10000-10000-10000-10000-10000-10000-10000-10000-10000-10000-10000-10000-10000-10000-10000-10000-10000-10000-10000-10000-10000-10000-10000-10000-10000-10000-10000-10000-10000-10000-10000-10000-10000-10000-10000-10000-10000-10000-10000-10000-10000-10000-10000-10000-10000-10000-10000-10000-10000-10000-10000-10000-10000-10000-10000-10000-10000-10000-10000-10000-10000-10000-10000-10000-10000-10000-10000-10000-10000-10000-10000-10000-10000-10000-10000-10000-10000-10000-10000-10000-10000-10000-10000-10000-10000-10000-10000-10000-10000-10000-10000-10000-10000-10000-10000-10000-10000-10000-10000-10000-10000-10000-10000-10000-10000-10000-10000-10000-10000-10000-10000-10000-10000-10000-10000-10000-10000-10000-10000-10000-10000-10000-10000-10000-10000-10000-10000-10000-10000-10000-10000-10000-10000-10000-10000-10000-10000-10000-10000-10000-10000-10000-10000-10000-10000-10000-10000-10000-10000-10000-10000-10000-10000-10000-10000-10000-10000-10000-10000-10000-10000-10000-10000-10000-10000-10000-10000-10000-10000-10000-10000-10000-10000-10000-10000-10000-10000-10000-10000-10000-10000-10000-10000-10000-10000-10000-10000-10000-10000-10000-10000-10000-10000-10000-10000-10000-10000-10000-10000-10000-10000-10000-10000-10000-10000-10000-10000-10000-10000-10000-10000-10000-10000-10000-10000-10000-10000-10000-10000-10000-10000-10000-10000-10000-10000-10000-10000-10000-10000-10000-10000-10000-10000-10000-10000-10000-10000-10000-10000-10000-10000-10000-10000-10000-10000-10000-10000-10000-10000-10000-10000-10000-10000-10000-10000-10000-10000-10000-10000-10000-10000-10000-10000-10000-10000-10000-10000-10000-10000-10000-10000-10000-10000-10000-10000-10000-10000-10000-10000-10000-10000-10000-10000-10000-10000-10000-10000-10000-10000-10000-10000-10000-10000-10000-10000-10000-10000-10000-10000-10000-10000-10000-10000-10000-10000-10000-10000-10000-10000-10000-10000-10000-10000-10000-10000-10000-10000-10000-10000-10000-10000-10000-10000-10000-10000-10000-10000-10000-10000-10000-10000-10000-10000-10000-10000-10000-10000-10000-10000-10000-10000-10000-10000-10000-10000-10000-10000-10000-10000-10000-10000-10000-10000-10000-10000-10000-10000-10000-10000-10000-10000-10000-10000-10000-10000-10000-10000-10000-10000-10000-10000-10000-10000-10000-10000-10000-10000-10000-10000-10000-10000-10000-10000-10000-10000-10000-10000-10000-10000-10000-10000-10000-10000-10000-10000-10000-10000-10000-10000-10000-10000-10000-10000-10000-10000-10000-10000-10000-10000-10000-10000-10000-10000-10000-10000-10000-10000-10000-10000-10000-10000-10000-10000-10000-10000-10000-10000-10000-10000-10000-10000-10000-10000-10000-10000-10000-10000-10000-10000-10000-10000-10000-10000-10000-10000-10000-10000-10000-10000-10000-10000-10000-10000-10000-10000-10000-10000-10000-10000-10000-10000-10000-10000-10000-10000-10000-10000-10000-10000-10000-10000-10000-10000-10000-10000-10000-10000-10000-10000-10000-10000-10000-10000-10000-10000-10000-10000-10000-10000-10000-10000-10000-10000-10000-10000-10000-10000-10000-10000-10000-10000-10000-10000-10000-10000-10000-10000-10000-10000-10000-10000-10000-10000-10000-10000-10000-10000-10000-10000-10000-10000-10000-10000-10000-10000-10000-10000-10000-10000-10000-10000-10000-10000-10000-10000-10000-10000-10000-10000-10000-10000-10000-10000-10000-10000-10000-10000-10000-10000-10000-10000-10000-10000-10000-10000-10000-10000-10000-10000-10000-10000-10000-10000-10000-10000-10000-10000-10000-10000-10000-10000-10000-10000-10000-10000-10000-10000-10000-10000-10000-10000-10000-10000-10000-10000-10000-10000-10000-10000-10000-10000-10000-10000-10000-10000-10000-10000-10000-10000-10000-10000-10000-10000-10000-10000-10000-10000-10000-10000-10000-10000-10000-10000-10000-10000-10000-10000-10000-10000-10000-10000-10000-10000-10000-10000-10000-10000-10000-10000-10000-10000-10000-10000-10000-10000-10000-10000-10000-10000-10000-10000-10000-10000-10000-10000-10000-10000-10000-10000-10000-10000-10000-10000-10000-10000-10000-10000-10000-10000-10000-10000-10000-10000-10000-10000-10000-10000-10000-10000-10000-10000-10000-10000-10000-10000-10000-10000-10000-10000-10000-10000-10000-10000-10000-10000-10000-10000-10000-10000-10000-10000-10000-10000-10000-10000-10000-10000-10000-10000-10000-10000-10000-10000-10000-10000-10000-10000-10000-10000-10000-10000-10000-10000-10000-10000-10000-10000-10000-10000-10000-10000-10000-10000-10000-10000-10000-10000-10000-10000-10000-10000-10000-10000-10000-10000-10000-10000-10000-10000-10000-10000-10000-10000-10000-10000-10000-10000-10000-10000-10000-10000-10000-10000-10000-10000-10000-10000-10000-10000-10000-10000-10000-10000-10000-10000-10000-10000-10000-10000-10000-10000-10000-10000-10000-10000-10000-10000-10000-10000-10000-10000-10000-10000-10000-10000-10000-10000-10000-10000-10000-10000-10000-10000-10000-10000-10000-10000-10000-10000-10000-10000-10000-10000-10000-10000-10000-10000-10000-10000-10000-10000-10000-10000-10000-10000-10000-10000-10000-10000-10000-10000-10000-10000-10000-10000-10000-10000-10000-10000-10000-10000-10000-10000-10000-10000-10000-10000-10000-10000-10000-10000-10000-10000-10000-10000-10000-10000-10000-10000-10000-10000-10000-10000-10000-10000-10000-10000-10000-10000-10000-10000-10000-10000-10000-10000-10000-10000-10000-10000-10000-10000-10000-10000-10000-10000-10000-10000-10000-10000-10000-10000-10000-10000-10000-10000-10000-10000-10000-10000-10000-10000-10000-10000-10000-10000-10000-10000-10000-10000-10000-10000-10000-10000-10000-10000-10000-10000-10000-10000-10000-10000-10000-10000-10000-10000-10000-10000-10000-10000-10000-10000-10000-10000-10000-10000-10000-10000-10000-10000-10000-10000-10000-10000-10000-10000-10000-10000-10000-10000-10000-10000-10000-10000-10000-10000-10000-10000-10000-10000-10000-10000-10000-10000-10000-10000-10000-10000-10000-10000-10000-10000-10000-10000-10000-10000-10000-10000-10000-10000-10000-10000-10000-10000-10000-10000-10000-10000-10000-10000-10000-10000-10000-10000-10000-10000-10000-10000-10000-10000-10000-10000-10000-10000-10000-10000-10000-10000-10000-10000-10000-10000-10000-10000-10000-10000-10000-10000-10000-10000-10000-10000-10000-10000-10000-10000-10000-10000-10000-10000-10000-10000-10000-10000-10000-10000-10000-10000-10000-10000-10000-10000-10000-10000-10000-10000-10000-10000-10000-10000-10000-10000-10000-10000-10000-10000-10000-10000-10000-10000-10000-10000-10000-10000-10000-10000-10000-10000-10000-10000-10000-10000-10000-10000-10000-10000-10000-10000-10000-10000-10000-10000-10000-10000-10000-10000-10000-10000-10000-10000-10000-10000-10000-10000-10000-10000-10000-10000-10000-10000-10000-10000-10000-10000-10000-10000-10000-10000-10000-10000-10000-10000-10000-10000-10000-10000-10000-10000-10000-10000-10000-10000-10000-10000-10000-10000-10000-10000-10000-10000-10000-10000-10000-10000-10000-10000-10000-10000-10000-10000-10000-10000-10000-10000-10000-10000-10000-10000-10000-10000-10000-10000-10000-10000-10000-10000-10000-10000-10000-10000-10000-10000-10000-10000-10000-10000-10000-10000-10000-10000-10000-10000-10000-10000-10000-10000-10000-10000-10000-10000-10000-10000-10000-10000-10000-10000-10000-10000-10000-10000-10000-10000-10000-10000-10000-10000-10000-10000-10000-10000-10000-10000-10000-10000-10000-10000-10000-10000-10000-10000-10000-10000-10000-10000-10000-10000-10000-10000-10000-10000-10000-10000-10000-10000-10000-10000-10000-10000-10000-10000-10000-10000-10000-10000-10000-10000-10000-10000-10000-10000-10000-10000-10000-10000-10000-10000-10000-10000-10000-10000-10000-10000-10000-10000-10000-10000-10000-10000-10000-10000-10000-10000-10000-10000-10000-10000-10000-10000-10000-10000-10000-10000-10000-10000-10000-10000-10000-10000-10000-10000-10000-10000-10000-10000-10000-10000-10000-10000-10000-10000-10000-10000-10000-10000-10000-10000-10000-10000-10000-10000-10000-10000-10000-10000-10000-10000-10000-10000-10000-10000-10000-10000-10000-10000-10000-10000-10000-10000-10000-10000-10000-10000-10000-10000-10000-10000-10000-10000-10000-10000-10000-10000-10000-10000-10000-10000-10000-10000-10000-10000-10000-10000-10000-10000-10000-10000-10000-10000-10000-10000-10000-10000-10000-10000-10000-10000-10000-10000-10000-10000-10000-10000-10000-10000-10000-10000-10000-10000-10000-10000-10000-10000-10000-10000-10000-10000-10000-10000-10000-10000-10000-10000-10000-10000-10000-10000-10000-10000-10000-10000-10000-10000-10000-10000-10000-10000-10000-10000-10000-10000-10000-10000-10000-10000-10000-10000-10000-10000-10000-10000-10000-10000-10000-10000-10000-10000-10000-10000-10000-10000-10000-10000-10000-10000-10000-10000-10000-10000-10000-10000-10000-10000-10000-10000-10000-10000-10000-10000-10000-10000-10000-10000-10000-10000-10000-10000-10000-10000-10000-10000-10000-10000-10000-10000-10000-10000-10000-10000-10000-10000-10000-10000-10000-10000-10000-10000-10000-10000-10000-10000-10000-10000-10000-10000-10000-10000-10000-10000-10000-10000-10000-10000-10000-10000-10000-10000-10000-10000-10000-10000-10000-10000-10000-10000-10000-10000-10000-10000-10000-10000-10000-10000-10000-10000-10000-10000-10000-10000-10000-10000-10000-10000-10000-10000-10000-10000-10000-10000-10000-10000-10000-10000-10000-10000-10000-10000-10000-10000-10000-10000-10000-10000-10000-10000-10000-10000-10000-10000-10000-10000-10000-10000-10000-10000-10000-10000-10000-10000-10000-10000-10000-10000-10000-10000-10000-10000-10000-10000-10000-10000-10000-10000-10000-10000-10000-10000-10000-10000-10000-10000-10000-10000-10000-10000-10000-10000-10000-10000-10000-10000-10000-10000-10000-10000-10000-10000-10000-10000-10000-10000-10000-10000-10000-10000-10000-10000-10000-10000-10000-10000-10000-10000-10000-10000-10000-10000-10000-10000-10000-10000-10000-10000-10000-10000-10000-10000-10000-10000-10000-10000-10000-10000-10000-10000-10000-10000-10000-10000-10000-10000-10000-10000-10000-10000-10000-10000-10000-10000-10000-10000-10000-10000-10000-10000-10000-10000-10000-10000-10000-10000-10000-10000-10000-10000-10000-10000-10000-10000-10000-10000-10000-10000-10000-10000-10000-10000-10000-10000-10000-10000-10000-10000-10000-10000-10000-10000-10000-10000-10000-10000-10000-10000-10000-10000-10000-10000-10000-10000-10000-10000-10000-10000-10000-10000-10000-10000-10000-10000-10000-10000-10000-10000-10000-10000-10000-10000-10000-10000-10000-10000-10000-10000-10000-10000-10000-10000-10000-10000-10000-10000-10000-10000-10000-10000-10000-10000-10000-10000-10000-10000-10000-10000-10000-10000-10000-10000-10000-10000-10000-10000-10000-10000-10000-10000-10000-10000-10000-10000-10000-10000-10000-10000-10000-10000-10000-10000-10000-10000-10000-10000-10000-10000-10000-10000-10000-10000-10000-10000-10000-10000-10000-10000-10000-10000-10000-10000-10000-10000-10000-10000-10000-10000-10000-10000-10000-10000-10000-10000-10000-10000-10000-10000-10000-10000-10000-10000-10000-10000-10000-10000-10000-10000-10000-10000-10000-10000-10000-10000-10000-10000-10000-10000-10000-10000-10000-10000-10000-10000-10000-10000-10000-10000-10000-10000-10000-10000-10000-10000-10000-10000-10000-10000-10000-10000-10000-10000-10000-10000-10000-10000-10000-10000-10000-10000-10000-10000-10000-10000-10000-10000-10000-10000-10000-10000-10000-10000-10000-10000-10000-10000-10000-10000-10000-10000-10000-10000-10000-10000-10000-10000-10000-10000-10000-10000-10000-10000-10000-10000-10000-10000-10000-10000-10000-10000-10000-10000-10000-10000-10000-10000-10000-10000-10000-10000-10000-10000-10000-10000-10000-10000-10000-10000-10000-10000-10000-10000-10000-10000-10000-10000-10000-10000-10000-10000-10000-10000-10000-10000-10000-10000-10000-10000-10000-10000-10000-10000-10000-10000-10000-10000-10000-10000-10000-10000-10000-10000-10000-10000-10000-10000-10000-10000-10000-10000-10000-10000-10000-10000-10000-10000-10000-10000-10000-10000-10000-10000-10000-10000-10000-10000-10000-10000-10000-10000-10000-10000-10000-10000-10000-10000-10000-10000-10000-10000-10000-10000-10000-10000-10000-10000-10000-10000-10000-10000-10000-10000-10000-10000-10000-10000-10000-10000-10000-10000-10000-10000-10000-10000-10000-10000-10000-10000-10000-10000-10000-10000-10000-10000-10000-10000-10000-10000-10000-10000-10000-10000-10000-10000-10000-10000-10000-10000-10000-10000-10000-10000-10000-10000-10000-10000-10000-10000-10000-10000-10000-10000-10000-10000-10000-10000-10000-10000-10000-10000-10000-10000-10000-10000-10000-10000-10000-10000-10000-10000-10000-10000-10000-10000-10000-10000-10000-10000-10000-10000-10000-10000-10000-10000-10000-10000-10000-10000-10000-10000-10000-10000-10000-10000-10000-10000-10000-10000-10000-10000-10000-10000-10000-10000-10000-10000-10000-10000-10000-10000-10000-10000-10000-10000-10000-10000-10000-10000-10000-10000-10000-10000-10000-10000-10000-10000-10000-10000-10000-10000-10000-10000-10000-10000-10000-10000-10000-10000-10000-10000-10000-10000-10000-10000-10000-10000-10000-10000-10000-10000-10000-10000-10000-10000-10000-10000-10000-10000-10000-10000-10000-10000-10000-10000-10000-10000-10000-10000-10000-10000-10000-10000-10000-10000-10000-10000-10000-10000-10000-10000-10000-10000-10000-10000-10000-10000-10000-10000-10000-10000-10000-10000-10000-10000-10000-10000-10000-10000-10000-10000-10000-10000-10000-10000-10000-10000-10000-10000-10000-10000-10000-10000-10000-10000-10000-10000-10000-10000-10000-10000-10000-10000-10000-10000-10000-10000-10000-10000-10000-10000-10000-10000-10000-10000-10000-10000-10000-10000-10000-10000-10000-10000-10000-10000-10000-10000-10000-10000-10000-10000-10000-10000-10000-10000-10000-10000-10000-10000-10000-10000-10000-10000-10000-10000-10000-10000-10000-10000-10000-10000-10000-10000-10000-10000-10000-10000-10000-10000-10000-10000-10000-10000-10000-10000-10000-10000-10000-10000-10000-10000-10000-10000-10000-10000-10000-10000-10000-10000-10000-10000-10000-10000-10000-10000-10000-10000-10000-10000-10000-10000-10000-10000-10000-10000-10000-10000-10000-10000-10000-10000-10000-10000-10000-10000-10000-10000-10000-10000-10000-10000-10000-10000-10000-10000-10000-10000-10000-10000-10000-10000-10000-10000-10000-10000-10000-10000-10000-10000-10000-10000-10000-10000-10000-10000-10000-10000-10000-10000-10000-10000-10000-10000-10000-10000-10000-10000-10000-10000-10000-10000-10000-10000-10000-10000-10000-10000-10000-10000-10000-10000-10000-10000-10000-10000-10000-10000-10000-10000-10000-10000-10000-10000-10000-10000-10000-10000-10000-10000-10000-10000-10000-10000-10000-10000-10000-10000-10000-10000-10000-10000-10000-10000-10000-10000-10000-10000-10000-10000-10000-10000-10000-10000-10000-10000-10000-10000-10000-10000-10000-10000-10000-10000-10000-10000-10000-10000-10000-10000-10000-10000-10000-10000-10000-10000-10000-10000-10000-10000-10000-10000-10000-10000-10000-10000-10000-10000-10000-10000-10000-10000-10000-10000-10000-10000-10000-10000-10000-10000-10000-10000-10000-10000-10000-10000-10000-10000-10000-10000-10000-10000-10000-10000-10000-10000-10000-10000-10000-10000-10000-10000-10000-10000-10000-10000-10000-10000-10000-10000-10000-10000-10000-10000-10000-10000-10000-10000-10000-10000-10000-10000-10000-10000-10000-10000-10000-10000-10000-10000-10000-10000-10000-10000-10000-10000-10000-10000-10000-10000-10000-10000-10000-10000-10000-10000-10000-10000-10000-10000-10000-10000-10000-10000-10000-10000-10000-10000-10000-10000-10000-10000-10000-10000-10000-10000-10000-10000-10000-10000-10000-10000-10000-10000-10000-10000-10000-10000-10000-10000-10000-10000-10000-10000-10000-10000-10000-10000-10000-10000-10000-10000-10000-10000-10000-10000-10000-10000-10000-10000-10000-10000-10000-10000-10000-10000-10000-10000-10000-10000-10000-10000-10000-10000-10000-10000-10000-10000-10000-10000-10000-10000-10000-10000-10000-10000-10000-10000-10000-10000-10000-10000-10000-10000-10000-10000-10000-10000-10000-10000-10000-10000-10000-10000-10000-10000-10000-10000-10000-10000-10000-10000-10000-10000-10000-10000-10000-10000-10000-10000-10000-10000-10000-10000-10000-10000-10000-10000-10000-10000-10000-10000-10000-10000-10000-10000-10000-10000-10000-10000-10000-10000-10000-10000-10000-10000-10000-10000-10000-10000-10000-10000-10000-10000-10000-10000-10000-10000-10000-10000-10000-10000-10000-10000-10000-10000-10000-10000-10000-10000-10000-10000-10000-10000-10000-10000-10000-10000-10000-10000-10000-10000-10000-10000-10000-10000-10000-10000-10000-10000-10000-10000-10000-10000-10000-10000-10000-10000-10000-10000-10000-10000-10000-10000-10000-10000-10000-10000-10000-10000-10000-10000-10000-10000-10000-10000-10000-10000-10000-10000-10000-10000-10000-10000-10000-10000-10000-10000-10000-10000-10000-10000-10000-10000-10000-10000-10000-10000-10000-10000-10000-10000-10000-10000-10000-10000-10000-10000-10000-10000-10000-10000-10000-10000-10000-10000-10000-10000-10000-10000-10000-10000-10000-10000-10000-10000-10000-10000-10000-10000-10000-10000-10000-10000-10000-10000-10000-10000-10000-10000-10000-10000-10000-10000-10000-10000-10000-10000-10000-10000-10000-10000-10000-10000-10000-10000-10000-10000-10000-10000-10000-10000-10000-10000-10000-10000-10000-10000-10000-10000-10000-10000-10000-10000-10000-10000-10000-10000-10000-10000-10000-10000-10000-10000-10000-10000-10000-10000-10000-10000-10000-10000-10000-10000-10000-10000-10000-10000-10000-10000-10000-10000-10000-10000-10000-10000-10000-10000-10000-10000-10000-10000-10000-10000-10000-10000-10000-10000-10000-10000-10000-10000-10000-10000-10000-10000-10000-10000-10000-10000-10000-10000-10000-10000-10000-10000-10000-10000-10000-10000-10000-10000-10000-10000-10000-10000-10000-10000-10000-10000-10000-10000-10000-10000-10000-10000-10000-10000-10000-10000-10000-10000-10000-10000-10000-10000-10000-10000-10000-10000-10000-10000-10000-10000-10000-10000-10000-10000-10000-10000-10000-10000-10000-10000-10000-10000-10000-10000-10000-10000-10000-10000-10000-10000-10000-10000-10000-10000-10000-10000-10000-10000-10000-10000-10000-10000-10000-10000-10000-10000-10000-10000-10000-10000-10000-10000-10000-10000-10000-10000-10000-10000-10000-10000-10000-10000-10000-10000-10000-10000-10000-10000-10000-10000-10000-10000-10000-10000-10000-10000-10000-10000-10000-10000-10000-10000-10000-10000-10000-10000-10000-10000-10000-10000-10000-10000-10000-10000-10000-10000-10000-10000-10000-10000-10000-10000-10000-10000-10000-10000-10000-10000-10000-10000-10000-10000-10000-10000-10000-10000-10000-10000-10000-10000-10000-10000-10000-10000-10000-10000-10000-10000-10000-10000-10000-10000-10000-10000-10000-10000-10000-10000-10000-10000-10000-10000-10000-10000-10000-10000-10000-10000-10000-10000-10000-10000-10000-10000-10000-10000-10000-10000-10000-10000-10000-10000-10000-10000-10000-10000-10000-10000-10000-10000-10000-10000-10000-10000-10000-10000-10000-10000-10000-10000-10000-10000-10000-10000-10000-10000-10000-10000-10000-10000-10000-10000-10000-10000-10000-10000-10000-10000-10000-10000-10000-10000-10000-10000-10000-10000-10000-10000-10000-10000-10000-10000-10000-10000-10000-10000-10000-10000-10000-10000-10000-10000-10000-10000-10000-10000-10000-10000-10000-10000-10000-10000-10000-10000-10000-10000-10000-10000-10000-10000-10000-10000-10000-10000-10000-10000-10000-10000-10000-10000-10000-10000-10000-10000-10000-10000-10000-10000-10000-10000-10000-10000-10000-10000-10000-10000-10000-10000-10000-10000-10000-10000-10000-10000-10000-10000-10000-10000-10000-10000-10000-10000-10000-10000-10000-10000-10000-10000-10000-10000-10000-10000-10000-10000-10000-10000-10000-10000-10000-10000-10000-10000-10000-10000-10000-10000-10000-10000-10000-10000-10000-10000-10000-10000-10000-10000-10000-10000-10000-10000-10000-10000-10000-10000-10000-10000-10000-10000-10000-10000-10000-10000-10000-10000-10000-10000-10000-10000-10000-10000-10000-10000-10000-10000-10000-10000-10000-10000-10000-10000-10000-10000-10000-10000-10000-10000-10000-10000-10000-10000-10000-10000-10000-10000-10000-10000-10000-10000-10000-10000-10000-10000-10000-10000-10000-10000-10000-10000-10000-10000-10000-10000-10000-10000-10000-10000-10000-10000-10000-10000-10000-10000-10000-10000-10000-10000-10000-10000-10000-10000-10000-10000-10000-10000-10000-10000-10000-10000-10000-10000-10000-10000-10000-10000-10000-10000-10000-10000-10000-10000-10000-10000-10000-10000-10000-10000-10000-10000-10000-10000-10000-10000-10000-10000-10000-10000-10000-10000-10000-10000-10000-10000-10000-10000-10000-10000-10000-10000-10000-10000-10000-10000-10000-10000-10000-10000-10000-10000-10000-10000-10000-10000-10000-10000-10000-10000-10000-10000-10000-10000-10000-10000-10000-10000-10000-10000-10000-10000-10000-10000-10000-10000-10000-10000-10000-10000-10000-10000-10000-10000-10000-10000-10000-10000-10000-10000-10000-10000-10000-10000-10000-10000-10000-10000-10000-10000-10000-10000-10000-10000-10000-10000-10000-10000-10000-10000-10000-10000-10000-10000-10000-10000-10000-10000-10000-10000-10000-10000-10000-10000-10000-10000-10000-10000-10000-10000-10000-10000-10000-10000-10000-10000-10000-10000-10000-10000-10000-10000-10000-10000-10000-10000-10000-10000-10000-10000-10000-10000-10000-10000-10000-10000-10000-10000-10000-10000-10000-10000-10000-10000-10000-10000-10000-10000-10000-10000-10000-10000-10000-10000-10000-10000-10000-10000-10000-10000-10000-10000-10000-10000-10000-10000-10000-10000-10000-10000-10000-10000-10000-10000-10000-10000-10000-10000-10000-10000-10000-10000-10000-10000-10000-10000-10000-10000-10000-10000-10000-10000-10000-10000-10000-10000-10000-10000-10000-10000-10000-10000-10000-10000-10000-10000-10000-10000-10000-10000-10000-10000-10000-10000-10000-10000-10000-10000-10000-10000-10000-10000-10000-10000-10000-10000-10000-10000-10000-10000-10000-10000-10000-10000-10000-10000-10000-10000-10000-10000-10000-10000-10000-10000-10000-10000-10000-10000-10000-10000-10000-10000-10000-10000-10000-10000-10000-10000-10000-10000-10000-10000-10000-10000-10000-10000-10000-10000-10000-10000-10000-10000-10000-10000-10000-10000-10000-10000-10000-10000-10000-10000-10000-10000-10000-10000-10000-10000-10000-10000-10000-10000-10000-10000-10000-10000-10000-10000-10000-10000-10000-10000-10000-10000-10000-10000-10000-10000-10000-10000-10000-10000-10000-10000-10000-10000-10000-10000-10000-10000-10000-10000-10000-10000-10000-10000-10000-10000-10000-10000-10000-10000-10000-10000-10000-10000-10000-10000-10000-10000-10000-10000-10000-10000-10000-10000-10000-10000-10000-10000-10000-10000-10000-10000-10000-10000-10000-10000-10000-10000-10000-10000-10000-10000-10000-10000-10000-10000-10000-10000-10000-10000-10000-10000-10000-10000-10000-10000-10000-10000-10000-10000-10000-10000-10000-10000-10000-10000-10000-10000-10000-10000-10000-10000-10000-10000-10000-10000-10000-10000-10000-10000-10000-10000-10000-10000-10000-10000-10000-10000-10000-10000-10000-10000-10000-10000-10000-10000-10000-10000-10000-10000-10000-10000-10000-10000-10000-10000-10000-10000-10000-10000-10000-10000-10000-10000-10000-10000-10000-10000-10000-10000-10000-10000-10000-10000-10000-10000-10000-10000-10000-10000-10000-10000-10000-10000-10000-10000-10000-10000-10000-10000-10000-10000-10000-10000-10000-10000-10000-10000-10000-10000-10000-10000-10000-10000-10000-10000-10000-10000-10000-10000-10000-10000-10000-10000-10000-10000-10000-10000-10000-10000-10000-10000-10000-10000-10000-10000-10000-Saving model...\n",
      "Saved.\n"
     ]
    }
   ],
   "source": [
    "def get_generator():\n",
    "    all_tokens_generator = chain(\n",
    "        wv_service.provider.bring_processed_colloquial_tokens(),\n",
    "                                 wv_service.provider.bring_processed_formal_tokens(0),\n",
    "                                 wv_service.provider.bring_processed_formal_tokens(1),\n",
    "                                 wv_service.provider.bring_processed_formal_tokens(2),\n",
    "                                 wv_service.provider.bring_processed_formal_tokens(3),\n",
    "                                 wv_service.provider.bring_processed_formal_tokens(4)\n",
    "    )\n",
    "    return wv_service.shuffle(all_tokens_generator)\n",
    "\n",
    "wv_service.model.min_count = 1\n",
    "wv_service.save_model()\n",
    "wv_service.model.build_vocab(SentencesIterator(get_generator), update=True)\n",
    "wv_service.model.train(SentencesIterator(get_generator), epochs=1, total_examples=wv_service.model.corpus_count)\n",
    "wv_service.save_model()"
   ]
  }
 ],
 "metadata": {
  "kernelspec": {
   "display_name": "Python 3",
   "language": "python",
   "name": "python3"
  },
  "language_info": {
   "codemirror_mode": {
    "name": "ipython",
    "version": 3
   },
   "file_extension": ".py",
   "mimetype": "text/x-python",
   "name": "python",
   "nbconvert_exporter": "python",
   "pygments_lexer": "ipython3",
   "version": "3.7.12"
  },
  "papermill": {
   "default_parameters": {},
   "duration": 35329.651473,
   "end_time": "2022-11-15T08:07:26.955012",
   "environment_variables": {},
   "exception": null,
   "input_path": "__notebook__.ipynb",
   "output_path": "__notebook__.ipynb",
   "parameters": {},
   "start_time": "2022-11-14T22:18:37.303539",
   "version": "2.3.4"
  }
 },
 "nbformat": 4,
 "nbformat_minor": 5
}
